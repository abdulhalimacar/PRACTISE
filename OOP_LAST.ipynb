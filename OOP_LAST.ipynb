{
  "nbformat": 4,
  "nbformat_minor": 0,
  "metadata": {
    "colab": {
      "provenance": []
    },
    "kernelspec": {
      "name": "python3",
      "display_name": "Python 3"
    },
    "language_info": {
      "name": "python"
    }
  },
  "cells": [
    {
      "cell_type": "code",
      "source": [
        "class Question:\n",
        "    def __init__(self, question, choices, answer):\n",
        "        self.question = question\n",
        "        self.choices = choices\n",
        "        self.answer = answer\n",
        "\n",
        "    def check(self, answer):\n",
        "        if answer not in self.choices:\n",
        "            raise ValueError(\"Given answer not in list choices\")\n",
        "        return self.answer == answer\n",
        "\n",
        "\n",
        "class Display:\n",
        "    def show_question(self, question):\n",
        "        print(\"Question: \" + question.question)\n",
        "        print(\"Choices: \" + \", \".join(question.choices))\n",
        "\n",
        "    def show_answer(self, question):\n",
        "        print(\"Answer: \" + question.answer)\n",
        "\n",
        "\n",
        "q1 = Question(\n",
        "    \"Best programming language\",\n",
        "    [\"python\", \"javascript\", \"java\", \"c\", \"c++\"],\n",
        "    \"python\"\n",
        ")\n",
        "q2 = Question(\n",
        "    \"Top earning programming language\",\n",
        "    [\"python\", \"javascript\", \"java\", \"c\", \"c++\"],\n",
        "    \"c++\"\n",
        ")\n",
        "q3 = Question(\n",
        "    \"Easiest programming language\",\n",
        "    [\"python\", \"javascript\", \"java\", \"c\", \"c++\"],\n",
        "    \"python\"\n",
        ")\n",
        "\n",
        "display = Display()\n",
        "display.show_question(q1)\n",
        "display.show_answer(q3)\n"
      ],
      "metadata": {
        "colab": {
          "base_uri": "https://localhost:8080/"
        },
        "id": "ALOx4mV7kGtR",
        "outputId": "feb5e8b8-5265-4ea2-f1be-8622953d667b"
      },
      "execution_count": 11,
      "outputs": [
        {
          "output_type": "stream",
          "name": "stdout",
          "text": [
            "Question: Best programming language\n",
            "Choices: python, javascript, java, c, c++\n",
            "Answer: python\n"
          ]
        }
      ]
    },
    {
      "cell_type": "code",
      "source": [],
      "metadata": {
        "id": "4pnX988ekTGM"
      },
      "execution_count": null,
      "outputs": []
    }
  ]
}