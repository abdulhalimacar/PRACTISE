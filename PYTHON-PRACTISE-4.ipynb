{
  "nbformat": 4,
  "nbformat_minor": 0,
  "metadata": {
    "colab": {
      "provenance": []
    },
    "kernelspec": {
      "name": "python3",
      "display_name": "Python 3"
    },
    "language_info": {
      "name": "python"
    }
  },
  "cells": [
    {
      "cell_type": "code",
      "source": [
        "for i in range(1,11):\n",
        "  print(\"**********\")\n",
        "  for k in range(1,11):\n",
        "    print('{} * {} = {}'.format(k,i,k*i))"
      ],
      "metadata": {
        "colab": {
          "base_uri": "https://localhost:8080/"
        },
        "id": "5hVmZb9NGRNM",
        "outputId": "377a1c67-96e3-4474-dd95-6ba55df80608"
      },
      "execution_count": 4,
      "outputs": [
        {
          "output_type": "stream",
          "name": "stdout",
          "text": [
            "**********\n",
            "1 * 1 = 1\n",
            "2 * 1 = 2\n",
            "3 * 1 = 3\n",
            "4 * 1 = 4\n",
            "5 * 1 = 5\n",
            "6 * 1 = 6\n",
            "7 * 1 = 7\n",
            "8 * 1 = 8\n",
            "9 * 1 = 9\n",
            "10 * 1 = 10\n",
            "**********\n",
            "1 * 2 = 2\n",
            "2 * 2 = 4\n",
            "3 * 2 = 6\n",
            "4 * 2 = 8\n",
            "5 * 2 = 10\n",
            "6 * 2 = 12\n",
            "7 * 2 = 14\n",
            "8 * 2 = 16\n",
            "9 * 2 = 18\n",
            "10 * 2 = 20\n",
            "**********\n",
            "1 * 3 = 3\n",
            "2 * 3 = 6\n",
            "3 * 3 = 9\n",
            "4 * 3 = 12\n",
            "5 * 3 = 15\n",
            "6 * 3 = 18\n",
            "7 * 3 = 21\n",
            "8 * 3 = 24\n",
            "9 * 3 = 27\n",
            "10 * 3 = 30\n",
            "**********\n",
            "1 * 4 = 4\n",
            "2 * 4 = 8\n",
            "3 * 4 = 12\n",
            "4 * 4 = 16\n",
            "5 * 4 = 20\n",
            "6 * 4 = 24\n",
            "7 * 4 = 28\n",
            "8 * 4 = 32\n",
            "9 * 4 = 36\n",
            "10 * 4 = 40\n",
            "**********\n",
            "1 * 5 = 5\n",
            "2 * 5 = 10\n",
            "3 * 5 = 15\n",
            "4 * 5 = 20\n",
            "5 * 5 = 25\n",
            "6 * 5 = 30\n",
            "7 * 5 = 35\n",
            "8 * 5 = 40\n",
            "9 * 5 = 45\n",
            "10 * 5 = 50\n",
            "**********\n",
            "1 * 6 = 6\n",
            "2 * 6 = 12\n",
            "3 * 6 = 18\n",
            "4 * 6 = 24\n",
            "5 * 6 = 30\n",
            "6 * 6 = 36\n",
            "7 * 6 = 42\n",
            "8 * 6 = 48\n",
            "9 * 6 = 54\n",
            "10 * 6 = 60\n",
            "**********\n",
            "1 * 7 = 7\n",
            "2 * 7 = 14\n",
            "3 * 7 = 21\n",
            "4 * 7 = 28\n",
            "5 * 7 = 35\n",
            "6 * 7 = 42\n",
            "7 * 7 = 49\n",
            "8 * 7 = 56\n",
            "9 * 7 = 63\n",
            "10 * 7 = 70\n",
            "**********\n",
            "1 * 8 = 8\n",
            "2 * 8 = 16\n",
            "3 * 8 = 24\n",
            "4 * 8 = 32\n",
            "5 * 8 = 40\n",
            "6 * 8 = 48\n",
            "7 * 8 = 56\n",
            "8 * 8 = 64\n",
            "9 * 8 = 72\n",
            "10 * 8 = 80\n",
            "**********\n",
            "1 * 9 = 9\n",
            "2 * 9 = 18\n",
            "3 * 9 = 27\n",
            "4 * 9 = 36\n",
            "5 * 9 = 45\n",
            "6 * 9 = 54\n",
            "7 * 9 = 63\n",
            "8 * 9 = 72\n",
            "9 * 9 = 81\n",
            "10 * 9 = 90\n",
            "**********\n",
            "1 * 10 = 10\n",
            "2 * 10 = 20\n",
            "3 * 10 = 30\n",
            "4 * 10 = 40\n",
            "5 * 10 = 50\n",
            "6 * 10 = 60\n",
            "7 * 10 = 70\n",
            "8 * 10 = 80\n",
            "9 * 10 = 90\n",
            "10 * 10 = 100\n"
          ]
        }
      ]
    },
    {
      "cell_type": "code",
      "source": [
        "x = int(input(\"enter a number to check whether it is a prime number: \"))\n",
        "count = []\n",
        "\n",
        "if (x <= 0) or (x==1):\n",
        "  print(\"it is not prime number\")\n",
        "\n",
        "for i in range(2,x+1):\n",
        "  if x % i == 0:\n",
        "    count.append(i)\n",
        "\n",
        "if len(count)>1:\n",
        "  print(f\"{x} is not a prime number\")\n",
        "else:\n",
        "  print(\"it is prime\")"
      ],
      "metadata": {
        "colab": {
          "base_uri": "https://localhost:8080/"
        },
        "id": "a5h1aZOBI7PH",
        "outputId": "0f25325c-ec06-44f6-b840-833c9fcf0aa6"
      },
      "execution_count": 25,
      "outputs": [
        {
          "output_type": "stream",
          "name": "stdout",
          "text": [
            "enter a number to check whether it is a prime number: 101\n",
            "it is prime\n"
          ]
        }
      ]
    },
    {
      "cell_type": "code",
      "source": [
        "import numpy as np"
      ],
      "metadata": {
        "id": "R4k9pkwjLH4k"
      },
      "execution_count": 26,
      "outputs": []
    },
    {
      "cell_type": "code",
      "source": [
        "np.random.randint(1,100)"
      ],
      "metadata": {
        "colab": {
          "base_uri": "https://localhost:8080/"
        },
        "id": "1zt0MT3lMIS2",
        "outputId": "c04fb024-fe29-4ad0-9156-38b3f33a803a"
      },
      "execution_count": 34,
      "outputs": [
        {
          "output_type": "execute_result",
          "data": {
            "text/plain": [
              "70"
            ]
          },
          "metadata": {},
          "execution_count": 34
        }
      ]
    },
    {
      "cell_type": "code",
      "source": [
        "number = np.random.randint(1,100)\n",
        "number_of_attempts = 5 \n",
        "\n",
        "while number_of_attempts > 0:\n",
        "  number_of_attempts-=1 \n",
        "  your_number = int(input(\"enter a number to predict the number: \"))\n",
        "\n",
        "  if your_number == number:\n",
        "    print(\"congrats, you have predicted correct\")\n",
        "    break\n",
        "  elif your_number < number:\n",
        "    print(\"go up\")\n",
        "  elif your_number > number:\n",
        "    print(\"go down\")\n",
        "  \n",
        "  if number_of_attempts == 0:\n",
        "    print(f\"you consumed your all rights to predict the number. The number was {number}\")"
      ],
      "metadata": {
        "colab": {
          "base_uri": "https://localhost:8080/"
        },
        "id": "60z_xPh6MKUe",
        "outputId": "58b56cd0-1402-4070-fc24-ee217931aca4"
      },
      "execution_count": 37,
      "outputs": [
        {
          "output_type": "stream",
          "name": "stdout",
          "text": [
            "enter a number to predict the number: 5\n",
            "go up\n",
            "enter a number to predict the number: 70\n",
            "go up\n",
            "enter a number to predict the number: 75\n",
            "go up\n",
            "enter a number to predict the number: 80\n",
            "go up\n",
            "enter a number to predict the number: 90\n",
            "go up\n",
            "you consumed your all rights to predict the number. The number was 94\n"
          ]
        }
      ]
    },
    {
      "cell_type": "code",
      "source": [
        "number = np.random.randint(1,6)\n",
        "number_of_attempts = 5 \n",
        "counter = 0 \n",
        "\n",
        "while number_of_attempts > 0:\n",
        "  number_of_attempts-=1 \n",
        "  counter += 1\n",
        "  your_number = int(input(\"enter a number to predict the number: \"))\n",
        "\n",
        "  if your_number == number:\n",
        "    print(f\"Congrats, you have predicted correct. You have {100-(20)*(counter-1)} points\")\n",
        "    break\n",
        "  elif your_number < number:\n",
        "    print(\"go up\")\n",
        "  elif your_number > number:\n",
        "    print(\"go down\")\n",
        "  \n",
        "  if number_of_attempts == 0:\n",
        "    print(f\"you consumed your all rights to predict the number. The number was {number}\")"
      ],
      "metadata": {
        "colab": {
          "base_uri": "https://localhost:8080/"
        },
        "id": "jpzlHe3pM8uo",
        "outputId": "48f65a6a-73d7-4bfb-e19b-eb2c80efd6e9"
      },
      "execution_count": 41,
      "outputs": [
        {
          "output_type": "stream",
          "name": "stdout",
          "text": [
            "enter a number to predict the number: 3\n",
            "go up\n",
            "enter a number to predict the number: 4\n",
            "go up\n",
            "enter a number to predict the number: 5\n",
            "Congrats, you have predicted correct. You have 60 points\n"
          ]
        }
      ]
    },
    {
      "cell_type": "code",
      "source": [
        "numbers = [i for i in range(1,10)]\n",
        "numbers"
      ],
      "metadata": {
        "colab": {
          "base_uri": "https://localhost:8080/"
        },
        "id": "8AswBft7PyoO",
        "outputId": "33e4ad15-ef32-4fbe-d308-2ca83c2a5c17"
      },
      "execution_count": 42,
      "outputs": [
        {
          "output_type": "execute_result",
          "data": {
            "text/plain": [
              "[1, 2, 3, 4, 5, 6, 7, 8, 9]"
            ]
          },
          "metadata": {},
          "execution_count": 42
        }
      ]
    },
    {
      "cell_type": "code",
      "source": [
        "numbers_2 = [i*2 for i in range(1,10)]\n",
        "numbers_2"
      ],
      "metadata": {
        "colab": {
          "base_uri": "https://localhost:8080/"
        },
        "id": "05YCXVRNSX9c",
        "outputId": "28b0d9ea-25e5-44e0-af87-c38fa9ac4217"
      },
      "execution_count": 43,
      "outputs": [
        {
          "output_type": "execute_result",
          "data": {
            "text/plain": [
              "[2, 4, 6, 8, 10, 12, 14, 16, 18]"
            ]
          },
          "metadata": {},
          "execution_count": 43
        }
      ]
    },
    {
      "cell_type": "code",
      "source": [
        "numbers = [1,5,9,8,15,44]\n",
        "result = []\n",
        "\n",
        "for i in numbers:\n",
        "  if (i%2==0):\n",
        "    result.append(i)\n",
        "\n",
        "print(result)"
      ],
      "metadata": {
        "colab": {
          "base_uri": "https://localhost:8080/"
        },
        "id": "dqypoqA-Sa4D",
        "outputId": "98a82184-4b7f-46f0-b50b-bae081f679f6"
      },
      "execution_count": 44,
      "outputs": [
        {
          "output_type": "stream",
          "name": "stdout",
          "text": [
            "[8, 44]\n"
          ]
        }
      ]
    },
    {
      "cell_type": "code",
      "source": [
        "result_list_comprehension = [i for i in numbers if i % 2 ==0]\n",
        "result_list_comprehension "
      ],
      "metadata": {
        "colab": {
          "base_uri": "https://localhost:8080/"
        },
        "id": "bi6LXPcFTtem",
        "outputId": "2203a883-a251-4f23-d724-38f0e64d4bf8"
      },
      "execution_count": 45,
      "outputs": [
        {
          "output_type": "execute_result",
          "data": {
            "text/plain": [
              "[8, 44]"
            ]
          },
          "metadata": {},
          "execution_count": 45
        }
      ]
    },
    {
      "cell_type": "code",
      "source": [
        "result_list_comprehension_2 = [i**2 for i in numbers if i % 2 ==0]\n",
        "result_list_comprehension_2"
      ],
      "metadata": {
        "colab": {
          "base_uri": "https://localhost:8080/"
        },
        "id": "xAcJhNfdUGfY",
        "outputId": "4b5d0278-5ddc-4ba4-dcc3-5ab916c851e0"
      },
      "execution_count": 46,
      "outputs": [
        {
          "output_type": "execute_result",
          "data": {
            "text/plain": [
              "[64, 1936]"
            ]
          },
          "metadata": {},
          "execution_count": 46
        }
      ]
    },
    {
      "cell_type": "code",
      "source": [
        "result_list_comprehension_3 = [i if i % 2 == 0 else \"odd number\" for i in numbers]\n",
        "result_list_comprehension_3"
      ],
      "metadata": {
        "colab": {
          "base_uri": "https://localhost:8080/"
        },
        "id": "wkRlH76zUNjR",
        "outputId": "a1543d50-8c21-41d2-99c3-f4279abe9152"
      },
      "execution_count": 48,
      "outputs": [
        {
          "output_type": "execute_result",
          "data": {
            "text/plain": [
              "['odd number', 'odd number', 'odd number', 8, 'odd number', 44]"
            ]
          },
          "metadata": {},
          "execution_count": 48
        }
      ]
    },
    {
      "cell_type": "code",
      "source": [
        "prices = [1000,3000,5000,4000,0]\n",
        "after_taxes = []\n",
        "\n",
        "for i in prices:\n",
        "  if i > 0:\n",
        "    after_taxes.append(i*1.15)\n",
        "\n",
        "print(after_taxes)"
      ],
      "metadata": {
        "colab": {
          "base_uri": "https://localhost:8080/"
        },
        "id": "CcfVg1iMU1-e",
        "outputId": "f3112031-1196-4d0b-afb7-527aabb1c81a"
      },
      "execution_count": 62,
      "outputs": [
        {
          "output_type": "stream",
          "name": "stdout",
          "text": [
            "[1150.0, 3449.9999999999995, 5750.0, 4600.0]\n"
          ]
        }
      ]
    },
    {
      "cell_type": "code",
      "source": [
        "[i*1.15 for i in prices if i>0]"
      ],
      "metadata": {
        "colab": {
          "base_uri": "https://localhost:8080/"
        },
        "id": "tobpqaofVmC0",
        "outputId": "d5e80096-a3f3-4062-9efb-8a51907acfd6"
      },
      "execution_count": 63,
      "outputs": [
        {
          "output_type": "execute_result",
          "data": {
            "text/plain": [
              "[1150.0, 3449.9999999999995, 5750.0, 4600.0]"
            ]
          },
          "metadata": {},
          "execution_count": 63
        }
      ]
    },
    {
      "cell_type": "code",
      "source": [
        "[i*1.15 if i>0 else 'tax is not calculated' for i in prices]"
      ],
      "metadata": {
        "colab": {
          "base_uri": "https://localhost:8080/"
        },
        "id": "2mK1PNFuWoc8",
        "outputId": "f07f4c40-ee99-43ea-d49f-a7cd38034c45"
      },
      "execution_count": 64,
      "outputs": [
        {
          "output_type": "execute_result",
          "data": {
            "text/plain": [
              "[1150.0, 3449.9999999999995, 5750.0, 4600.0, 'tax is not calculated']"
            ]
          },
          "metadata": {},
          "execution_count": 64
        }
      ]
    },
    {
      "cell_type": "code",
      "source": [
        "result = []\n",
        "\n",
        "for x in range(3):\n",
        "  for y in range(3):\n",
        "    result.append((x,y))\n",
        "\n",
        "print(result)"
      ],
      "metadata": {
        "colab": {
          "base_uri": "https://localhost:8080/"
        },
        "id": "W43i5ssXXFkN",
        "outputId": "cd27902f-9acc-4431-b10b-d77ed95669ef"
      },
      "execution_count": 67,
      "outputs": [
        {
          "output_type": "stream",
          "name": "stdout",
          "text": [
            "[(0, 0), (0, 1), (0, 2), (1, 0), (1, 1), (1, 2), (2, 0), (2, 1), (2, 2)]\n"
          ]
        }
      ]
    },
    {
      "cell_type": "code",
      "source": [
        "result_2 = [(x,y) for x in range(3) for y in range(3)]\n",
        "result_2"
      ],
      "metadata": {
        "colab": {
          "base_uri": "https://localhost:8080/"
        },
        "id": "bpvXFl6ZXt0G",
        "outputId": "6d9686b0-7d68-47a6-95a3-0c7f0f20169e"
      },
      "execution_count": 71,
      "outputs": [
        {
          "output_type": "execute_result",
          "data": {
            "text/plain": [
              "[(0, 0), (0, 1), (0, 2), (1, 0), (1, 1), (1, 2), (2, 0), (2, 1), (2, 2)]"
            ]
          },
          "metadata": {},
          "execution_count": 71
        }
      ]
    },
    {
      "cell_type": "code",
      "source": [
        "result_3 = [(x,y,z) for x in range(3) for y in range(3) for z in range(3)]"
      ],
      "metadata": {
        "colab": {
          "base_uri": "https://localhost:8080/"
        },
        "id": "RpGXNzIdX6lB",
        "outputId": "a058aa52-a5c7-4c28-9421-25f01c2517b1"
      },
      "execution_count": 72,
      "outputs": [
        {
          "output_type": "execute_result",
          "data": {
            "text/plain": [
              "[(0, 0, 0),\n",
              " (0, 0, 1),\n",
              " (0, 0, 2),\n",
              " (0, 1, 0),\n",
              " (0, 1, 1),\n",
              " (0, 1, 2),\n",
              " (0, 2, 0),\n",
              " (0, 2, 1),\n",
              " (0, 2, 2),\n",
              " (1, 0, 0),\n",
              " (1, 0, 1),\n",
              " (1, 0, 2),\n",
              " (1, 1, 0),\n",
              " (1, 1, 1),\n",
              " (1, 1, 2),\n",
              " (1, 2, 0),\n",
              " (1, 2, 1),\n",
              " (1, 2, 2),\n",
              " (2, 0, 0),\n",
              " (2, 0, 1),\n",
              " (2, 0, 2),\n",
              " (2, 1, 0),\n",
              " (2, 1, 1),\n",
              " (2, 1, 2),\n",
              " (2, 2, 0),\n",
              " (2, 2, 1),\n",
              " (2, 2, 2)]"
            ]
          },
          "metadata": {},
          "execution_count": 72
        }
      ]
    },
    {
      "cell_type": "code",
      "source": [],
      "metadata": {
        "id": "WxoriyH6YCUf"
      },
      "execution_count": null,
      "outputs": []
    }
  ]
}