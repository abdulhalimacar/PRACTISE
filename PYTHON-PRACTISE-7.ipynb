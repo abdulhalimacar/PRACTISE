{
  "nbformat": 4,
  "nbformat_minor": 0,
  "metadata": {
    "colab": {
      "provenance": []
    },
    "kernelspec": {
      "name": "python3",
      "display_name": "Python 3"
    },
    "language_info": {
      "name": "python"
    }
  },
  "cells": [
    {
      "cell_type": "code",
      "source": [
        "def acar(first,second):\n",
        "  return f\"your full name is {first} {second}\"\n",
        "\n",
        "acar(second=\"halim\",first=\"acar\")"
      ],
      "metadata": {
        "colab": {
          "base_uri": "https://localhost:8080/",
          "height": 36
        },
        "id": "KpADO5XMiU1G",
        "outputId": "311d2a11-b225-451f-8759-b349a57c0bd1"
      },
      "execution_count": 7,
      "outputs": [
        {
          "output_type": "execute_result",
          "data": {
            "text/plain": [
              "'your full name is acar halim'"
            ],
            "application/vnd.google.colaboratory.intrinsic+json": {
              "type": "string"
            }
          },
          "metadata": {},
          "execution_count": 7
        }
      ]
    },
    {
      "cell_type": "code",
      "source": [
        "liste = [10,20,30,40]\n",
        "\n",
        "def topla(sayılar):\n",
        "  sonuç=0\n",
        "  for i in sayılar:\n",
        "    sonuç+=i\n",
        "  return sonuç\n",
        "\n",
        "topla(liste)"
      ],
      "metadata": {
        "colab": {
          "base_uri": "https://localhost:8080/"
        },
        "id": "on56J5apjW-e",
        "outputId": "94795070-44af-47b3-ca8f-6336e4a3bb87"
      },
      "execution_count": 8,
      "outputs": [
        {
          "output_type": "execute_result",
          "data": {
            "text/plain": [
              "100"
            ]
          },
          "metadata": {},
          "execution_count": 8
        }
      ]
    },
    {
      "cell_type": "code",
      "source": [
        "def toplam(*args):\n",
        "  sonuç=0\n",
        "  for i in args:\n",
        "    sonuç+=i\n",
        "  \n",
        "  return sonuç\n",
        "\n",
        "toplam(10,20,30,40)"
      ],
      "metadata": {
        "colab": {
          "base_uri": "https://localhost:8080/"
        },
        "id": "6rI_B3z6kSZf",
        "outputId": "71e024c2-423c-4a92-8d93-41fa2d1b6c7c"
      },
      "execution_count": 9,
      "outputs": [
        {
          "output_type": "execute_result",
          "data": {
            "text/plain": [
              "100"
            ]
          },
          "metadata": {},
          "execution_count": 9
        }
      ]
    },
    {
      "cell_type": "code",
      "source": [
        "x=int(input(\"sayı gir: \"))\n",
        "\n",
        "for i in range(0,x+1):\n",
        "  listem=[]\n",
        "  a = 1 \n",
        "  if x%a == 0:\n",
        "    listem.append(a)\n",
        "    a+=1     "
      ],
      "metadata": {
        "colab": {
          "base_uri": "https://localhost:8080/"
        },
        "id": "g7iVcJqTkpUt",
        "outputId": "8bace49a-a592-4186-8fa2-6bf21e7db464"
      },
      "execution_count": 14,
      "outputs": [
        {
          "name": "stdout",
          "output_type": "stream",
          "text": [
            "sayı gir: 12\n"
          ]
        }
      ]
    },
    {
      "cell_type": "code",
      "source": [
        "listem"
      ],
      "metadata": {
        "colab": {
          "base_uri": "https://localhost:8080/"
        },
        "id": "lJMxgBaUmJ_P",
        "outputId": "f35195a0-8b1f-4b5b-c0b8-955997c89938"
      },
      "execution_count": 15,
      "outputs": [
        {
          "output_type": "execute_result",
          "data": {
            "text/plain": [
              "[1]"
            ]
          },
          "metadata": {},
          "execution_count": 15
        }
      ]
    },
    {
      "cell_type": "code",
      "source": [
        "x = int(input(\"gir: \"))\n",
        "listem = []\n",
        "\n",
        "for i in range(1,x+1):\n",
        "  if x%i == 0:\n",
        "    listem.append(i)\n",
        "\n",
        "print(listem)"
      ],
      "metadata": {
        "colab": {
          "base_uri": "https://localhost:8080/"
        },
        "id": "hBs5J2i2mOTo",
        "outputId": "385f6ef1-2eec-466a-e353-b947dbec1389"
      },
      "execution_count": 17,
      "outputs": [
        {
          "output_type": "stream",
          "name": "stdout",
          "text": [
            "gir: 12\n",
            "[1, 2, 3, 4, 6, 12]\n"
          ]
        }
      ]
    },
    {
      "cell_type": "code",
      "source": [
        "def divisoners(x):\n",
        "  listem = []\n",
        "\n",
        "  for i in range(1,x+1):\n",
        "    if x%i == 0:\n",
        "      listem.append(i)\n",
        "\n",
        "  return listem\n",
        "\n",
        "divisoners(12)"
      ],
      "metadata": {
        "colab": {
          "base_uri": "https://localhost:8080/"
        },
        "id": "ZgjXycCtmrlc",
        "outputId": "0c516e79-76d6-484f-c24d-4521b9b36401"
      },
      "execution_count": 18,
      "outputs": [
        {
          "output_type": "execute_result",
          "data": {
            "text/plain": [
              "[1, 2, 3, 4, 6, 12]"
            ]
          },
          "metadata": {},
          "execution_count": 18
        }
      ]
    },
    {
      "cell_type": "code",
      "source": [
        "x = int(input(\"gir: \"))\n",
        "y = []\n",
        "\n",
        "for i in range(1,x+1):\n",
        "  if x % i == 0:\n",
        "    y.append(i)\n",
        "\n",
        "\n",
        "if len(y)>2:\n",
        "  print(\"not prime\")\n",
        "else:\n",
        "  print(\"prime\")"
      ],
      "metadata": {
        "colab": {
          "base_uri": "https://localhost:8080/"
        },
        "id": "vz0xbyE3nA80",
        "outputId": "41767a4a-4c22-4c8a-ce11-3125c18916d2"
      },
      "execution_count": 26,
      "outputs": [
        {
          "output_type": "stream",
          "name": "stdout",
          "text": [
            "gir: 17\n",
            "prime\n"
          ]
        }
      ]
    },
    {
      "cell_type": "code",
      "source": [
        "def primefinder(x):\n",
        "  y = []\n",
        "\n",
        "  for i in range(1,x+1):\n",
        "    if x % i == 0:\n",
        "      y.append(i)\n",
        "\n",
        "\n",
        "  if len(y)>2:\n",
        "    print(\"not prime\")\n",
        "  else:\n",
        "    print(\"prime\")\n",
        "  \n",
        "\n",
        "primefinder(18)"
      ],
      "metadata": {
        "colab": {
          "base_uri": "https://localhost:8080/"
        },
        "id": "UikLC1Ycn21G",
        "outputId": "880eedb3-83d1-43e9-bdc7-95be6e0cb73a"
      },
      "execution_count": 31,
      "outputs": [
        {
          "output_type": "stream",
          "name": "stdout",
          "text": [
            "not prime\n"
          ]
        }
      ]
    },
    {
      "cell_type": "code",
      "source": [],
      "metadata": {
        "id": "vrgKfQHvoSDt"
      },
      "execution_count": null,
      "outputs": []
    }
  ]
}