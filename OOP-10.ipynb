{
  "nbformat": 4,
  "nbformat_minor": 0,
  "metadata": {
    "colab": {
      "provenance": []
    },
    "kernelspec": {
      "name": "python3",
      "display_name": "Python 3"
    },
    "language_info": {
      "name": "python"
    }
  },
  "cells": [
    {
      "cell_type": "code",
      "source": [
        "class Product:\n",
        "\n",
        "  def __init__(self,name,typ):\n",
        "    self.name = name \n",
        "    self.typ = typ \n",
        "\n",
        "  def pri(self,fiy):\n",
        "    fiy-=fiy*0.2\n",
        "    return f\"the price is {fiy}\"\n",
        "\n",
        "p1 = Product(\"iphone\",\"phone\")\n",
        "\n",
        "p1.name\n",
        "\n",
        "p1.pri(1000)"
      ],
      "metadata": {
        "colab": {
          "base_uri": "https://localhost:8080/",
          "height": 35
        },
        "id": "uvwOQi_Za0lZ",
        "outputId": "14e0cc70-026c-40c4-ece7-59c3e5497bcd"
      },
      "execution_count": 12,
      "outputs": [
        {
          "output_type": "execute_result",
          "data": {
            "text/plain": [
              "'the price is 800.0'"
            ],
            "application/vnd.google.colaboratory.intrinsic+json": {
              "type": "string"
            }
          },
          "metadata": {},
          "execution_count": 12
        }
      ]
    },
    {
      "cell_type": "code",
      "source": [
        "class Question:\n",
        "\n",
        "  def __init__(self,soru,choices,answer):\n",
        "    self.soru = soru \n",
        "    self.choices = choices \n",
        "    self.answer = answer \n",
        "\n",
        "  def check_answer(self,cev):\n",
        "    return cev==self.answer \n",
        "\n",
        "  def che2(self,ans):\n",
        "    if ans not in self.choices:\n",
        "      return ValueError(\"hatalı girdi\") \n",
        "    return ans==self.answer\n",
        "\n",
        "q1 = Question(\"en iyi dil\",[\"python\",\"java\",\"dart\",\"c++\"],\"python\")\n",
        "q2 = Question(\"en çok kullanılan dil\",[\"python\",\"java\",\"dart\",\"c++\"],\"c++\")\n",
        "q3 = Question(\"en etkili dil\",[\"python\",\"java\",\"dart\",\"c++\"],\"java\") \n",
        "\n",
        "q1.soru\n",
        "q1.answer\n",
        "\n",
        "q1.check_answer(\"java\") \n",
        "q1.che2(\"py\") "
      ],
      "metadata": {
        "colab": {
          "base_uri": "https://localhost:8080/"
        },
        "id": "flTs9obbcH_h",
        "outputId": "81b05d9c-d615-4926-90c6-54c861dd302f"
      },
      "execution_count": 17,
      "outputs": [
        {
          "output_type": "execute_result",
          "data": {
            "text/plain": [
              "ValueError('hatalı girdi')"
            ]
          },
          "metadata": {},
          "execution_count": 17
        }
      ]
    },
    {
      "cell_type": "code",
      "source": [
        "class Quiz: \n",
        "\n",
        "  def __init__(self,questions):\n",
        "    self.questions = questions\n",
        "    self.ind = 1\n",
        "\n",
        "  def getQuestion(self):\n",
        "    question = self.questions[self.ind]\n",
        "    return question \n",
        "\n",
        "  def displayQuestion(self):\n",
        "    question2 = self.getQuestion()\n",
        "\n",
        "    print(f\"soru {self.ind+1}:{question2.soru}\") \n",
        "\n",
        "    for q in question2.choices:\n",
        "      print(\"-\"+q)\n",
        "\n",
        "    print(question2.answer)\n",
        "\n",
        "sorular = [q1,q2,q3] \n",
        "quiz = Quiz(sorular)\n",
        "\n",
        "quiz.getQuestion().answer\n",
        "\n",
        "quiz.displayQuestion()"
      ],
      "metadata": {
        "colab": {
          "base_uri": "https://localhost:8080/"
        },
        "id": "syuQ2H7kcIEL",
        "outputId": "9828dac8-54e7-43c4-d62b-fe15de6723ea"
      },
      "execution_count": 38,
      "outputs": [
        {
          "output_type": "stream",
          "name": "stdout",
          "text": [
            "soru 2:en çok kullanılan dil\n",
            "-python\n",
            "-java\n",
            "-dart\n",
            "-c++\n",
            "c++\n"
          ]
        }
      ]
    },
    {
      "cell_type": "code",
      "source": [
        "quiz.questions[quiz.ind].choices\n",
        "\n",
        "#index nosunu sıfır yaparak birinci sorunun şıklarını aldık\n",
        "#we got firs questions' choices by making index zero "
      ],
      "metadata": {
        "colab": {
          "base_uri": "https://localhost:8080/"
        },
        "id": "p9gR-xGMkcyH",
        "outputId": "5c5c6703-76f8-45ae-9429-6f0aac24cb4d"
      },
      "execution_count": 39,
      "outputs": [
        {
          "output_type": "execute_result",
          "data": {
            "text/plain": [
              "['python', 'java', 'dart', 'c++']"
            ]
          },
          "metadata": {},
          "execution_count": 39
        }
      ]
    },
    {
      "cell_type": "code",
      "source": [],
      "metadata": {
        "id": "MTsjYbmukkrv"
      },
      "execution_count": null,
      "outputs": []
    }
  ]
}