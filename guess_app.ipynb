{
  "nbformat": 4,
  "nbformat_minor": 0,
  "metadata": {
    "colab": {
      "provenance": []
    },
    "kernelspec": {
      "name": "python3",
      "display_name": "Python 3"
    },
    "language_info": {
      "name": "python"
    }
  },
  "cells": [
    {
      "cell_type": "code",
      "execution_count": 1,
      "metadata": {
        "id": "pN9KubgIlqXF"
      },
      "outputs": [],
      "source": [
        "import numpy as np"
      ]
    },
    {
      "cell_type": "code",
      "source": [
        "np.random.randint(1,100)"
      ],
      "metadata": {
        "colab": {
          "base_uri": "https://localhost:8080/"
        },
        "id": "6BzbF2oTlszw",
        "outputId": "c5e20ec0-702a-4521-8bbc-27e67824e2e3"
      },
      "execution_count": 4,
      "outputs": [
        {
          "output_type": "execute_result",
          "data": {
            "text/plain": [
              "2"
            ]
          },
          "metadata": {},
          "execution_count": 4
        }
      ]
    },
    {
      "cell_type": "code",
      "source": [
        "right = 5\n",
        "real = np.random.randint(1,100)\n",
        "#print(real)\n",
        "\n",
        "while right>0:\n",
        "\n",
        "  x = int(input(\"enter a number\"))\n",
        "  right-=1\n",
        "  if x == real:\n",
        "    print(f\"congrats!, {5-right} kerede bildin\")\n",
        "    break;\n",
        "  elif x <real:\n",
        "    print(\"up!\")\n",
        "  elif x>real:\n",
        "    print(\"down!\")\n",
        "\n",
        "if right==0:\n",
        "    print(f\"you did not manage to find the number and the number was {real}\")\n",
        "\n"
      ],
      "metadata": {
        "colab": {
          "base_uri": "https://localhost:8080/"
        },
        "id": "lwBXhR-XlvNo",
        "outputId": "27b677bf-ab02-459e-d078-b8f91fc7e98c"
      },
      "execution_count": 7,
      "outputs": [
        {
          "output_type": "stream",
          "name": "stdout",
          "text": [
            "enter a number22\n",
            "up!\n",
            "enter a number23\n",
            "up!\n",
            "enter a number44\n",
            "up!\n",
            "enter a number55\n",
            "up!\n",
            "enter a number66\n",
            "down!\n",
            "you did manage to find the number and the number was 56\n"
          ]
        }
      ]
    },
    {
      "cell_type": "code",
      "source": [],
      "metadata": {
        "id": "Q6ne34uImoMc"
      },
      "execution_count": null,
      "outputs": []
    }
  ]
}