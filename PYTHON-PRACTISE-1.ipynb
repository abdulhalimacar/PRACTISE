{
  "nbformat": 4,
  "nbformat_minor": 0,
  "metadata": {
    "colab": {
      "provenance": []
    },
    "kernelspec": {
      "name": "python3",
      "display_name": "Python 3"
    },
    "language_info": {
      "name": "python"
    }
  },
  "cells": [
    {
      "cell_type": "code",
      "execution_count": 1,
      "metadata": {
        "id": "1QcFdjcVGJyT"
      },
      "outputs": [],
      "source": [
        "numbers = [1,5,15,35,57,72]"
      ]
    },
    {
      "cell_type": "code",
      "source": [
        "for i in numbers:\n",
        "  print(i)"
      ],
      "metadata": {
        "colab": {
          "base_uri": "https://localhost:8080/"
        },
        "id": "oVFOD1RTHaHT",
        "outputId": "82896b29-f823-4b23-e28a-f54d33cc83a7"
      },
      "execution_count": 2,
      "outputs": [
        {
          "output_type": "stream",
          "name": "stdout",
          "text": [
            "1\n",
            "5\n",
            "15\n",
            "35\n",
            "57\n",
            "72\n"
          ]
        }
      ]
    },
    {
      "cell_type": "code",
      "source": [
        "for i in numbers:\n",
        "  if i % 5 == 0:\n",
        "    print(i)"
      ],
      "metadata": {
        "colab": {
          "base_uri": "https://localhost:8080/"
        },
        "id": "4o9OgadPHcM8",
        "outputId": "f3d9244f-70b3-468d-a42b-efcb52606287"
      },
      "execution_count": 4,
      "outputs": [
        {
          "output_type": "stream",
          "name": "stdout",
          "text": [
            "5\n",
            "15\n",
            "35\n"
          ]
        }
      ]
    },
    {
      "cell_type": "code",
      "source": [
        "for i in numbers:\n",
        "  if i % 2 == 0:\n",
        "    print(i**2)"
      ],
      "metadata": {
        "colab": {
          "base_uri": "https://localhost:8080/"
        },
        "id": "BwiDlLcyHii6",
        "outputId": "072d8965-2391-4ed4-c008-083405078bb1"
      },
      "execution_count": 5,
      "outputs": [
        {
          "output_type": "stream",
          "name": "stdout",
          "text": [
            "5184\n"
          ]
        }
      ]
    },
    {
      "cell_type": "code",
      "source": [
        "sum_ = 0\n",
        "for i in numbers:\n",
        "  sum_ += i\n",
        "\n",
        "print(sum_)"
      ],
      "metadata": {
        "colab": {
          "base_uri": "https://localhost:8080/"
        },
        "id": "Wwpz-9ALHxEP",
        "outputId": "a4e2f79e-b63d-4c30-f397-9a02a15b7bc6"
      },
      "execution_count": 10,
      "outputs": [
        {
          "output_type": "stream",
          "name": "stdout",
          "text": [
            "185\n"
          ]
        }
      ]
    },
    {
      "cell_type": "code",
      "source": [
        "items = [\"iphone 8\",\"iphone X\",\"iphone XR\",\"samsung S10\"]"
      ],
      "metadata": {
        "id": "JysF8GozH69v"
      },
      "execution_count": 11,
      "outputs": []
    },
    {
      "cell_type": "code",
      "source": [
        "for i in items:\n",
        "  print(i[1])"
      ],
      "metadata": {
        "colab": {
          "base_uri": "https://localhost:8080/"
        },
        "id": "MYm2iwljJDon",
        "outputId": "8d864695-2dad-41a1-ed9a-4d4fdd27d414"
      },
      "execution_count": 12,
      "outputs": [
        {
          "output_type": "stream",
          "name": "stdout",
          "text": [
            "p\n",
            "p\n",
            "p\n",
            "a\n"
          ]
        }
      ]
    },
    {
      "cell_type": "code",
      "source": [
        "for i in items:\n",
        "  print(i.find(\"iphone\"))\n",
        "\n",
        "# -1 means that it does not contain 'iphone' statement."
      ],
      "metadata": {
        "colab": {
          "base_uri": "https://localhost:8080/"
        },
        "id": "S5HzPuJSJIbe",
        "outputId": "e2d80850-0507-492b-f345-1449e97661d6"
      },
      "execution_count": 15,
      "outputs": [
        {
          "output_type": "stream",
          "name": "stdout",
          "text": [
            "0\n",
            "0\n",
            "0\n",
            "-1\n"
          ]
        }
      ]
    },
    {
      "cell_type": "code",
      "source": [
        "count = 0 \n",
        "\n",
        "for i in items:\n",
        "  t=i.find(\"iphone\")\n",
        "  if t > -1:\n",
        "    count+=1\n",
        "print(count)\n",
        "\n",
        "# three of the items contains 'iphone' statement"
      ],
      "metadata": {
        "colab": {
          "base_uri": "https://localhost:8080/"
        },
        "id": "xGgMxeseKDDC",
        "outputId": "9c3f85bf-9c9a-4f9f-bfcd-0dea5a7249bb"
      },
      "execution_count": 17,
      "outputs": [
        {
          "output_type": "stream",
          "name": "stdout",
          "text": [
            "3\n"
          ]
        }
      ]
    },
    {
      "cell_type": "code",
      "source": [
        "items2 = [\n",
        "          {\"name\":\"iphone 8\",\"price\":\"4000\"},\n",
        "          {\"name\":\"iphone 8 Plus\",\"price\":\"5000\"},\n",
        "          {\"name\":\"iphone X\",\"price\":\"6000\"},\n",
        "          {\"name\":\"iphone XR\",\"price\":\"7000\"},\n",
        "          {\"name\":\"iphone 11\",\"price\":\"8000\"},\n",
        "          {\"name\":\"samsung S10\",\"price\":\"6000\"}]"
      ],
      "metadata": {
        "id": "Gh3wzGfeK6-I"
      },
      "execution_count": 19,
      "outputs": []
    },
    {
      "cell_type": "code",
      "source": [
        "for t in items2:\n",
        "  print(t.values())"
      ],
      "metadata": {
        "colab": {
          "base_uri": "https://localhost:8080/"
        },
        "id": "uJnSWK1tLlBb",
        "outputId": "f8129ce7-b42d-45a7-d931-ce10edb6cb85"
      },
      "execution_count": 22,
      "outputs": [
        {
          "output_type": "stream",
          "name": "stdout",
          "text": [
            "dict_values(['iphone 8', '4000'])\n",
            "dict_values(['iphone 8 Plus', '5000'])\n",
            "dict_values(['iphone X', '6000'])\n",
            "dict_values(['iphone XR', '7000'])\n",
            "dict_values(['iphone 11', '8000'])\n",
            "dict_values(['samsung S10', '6000'])\n"
          ]
        }
      ]
    },
    {
      "cell_type": "code",
      "source": [
        "for t in items2:\n",
        "  print(f\"name:{t['name']}\")"
      ],
      "metadata": {
        "colab": {
          "base_uri": "https://localhost:8080/"
        },
        "id": "4BIT0mLwMB_Z",
        "outputId": "d6a2b034-caa2-426b-d397-400676eb8b6b"
      },
      "execution_count": 25,
      "outputs": [
        {
          "output_type": "stream",
          "name": "stdout",
          "text": [
            "name:iphone 8\n",
            "name:iphone 8 Plus\n",
            "name:iphone X\n",
            "name:iphone XR\n",
            "name:iphone 11\n",
            "name:samsung S10\n"
          ]
        }
      ]
    },
    {
      "cell_type": "code",
      "source": [
        "for i in items2:\n",
        "  print(f\"price:{i['price']}\")"
      ],
      "metadata": {
        "colab": {
          "base_uri": "https://localhost:8080/"
        },
        "id": "R0FdpLiwMnZd",
        "outputId": "0d3c921d-f22a-4c14-c6e9-43cb17ba8cba"
      },
      "execution_count": 27,
      "outputs": [
        {
          "output_type": "stream",
          "name": "stdout",
          "text": [
            "price:4000\n",
            "price:5000\n",
            "price:6000\n",
            "price:7000\n",
            "price:8000\n",
            "price:6000\n"
          ]
        }
      ]
    },
    {
      "cell_type": "code",
      "source": [
        "for i in items2:\n",
        "  print(f\"name:{i['name']} and price:{i['price']}\")"
      ],
      "metadata": {
        "colab": {
          "base_uri": "https://localhost:8080/"
        },
        "id": "idJobSA-ND8o",
        "outputId": "dc9f4a0b-c6f8-43b0-bbb8-83c04748d3f2"
      },
      "execution_count": 30,
      "outputs": [
        {
          "output_type": "stream",
          "name": "stdout",
          "text": [
            "name:iphone 8 and price:4000\n",
            "name:iphone 8 Plus and price:5000\n",
            "name:iphone X and price:6000\n",
            "name:iphone XR and price:7000\n",
            "name:iphone 11 and price:8000\n",
            "name:samsung S10 and price:6000\n"
          ]
        }
      ]
    },
    {
      "cell_type": "code",
      "source": [
        "sum_of_the_prices = 0\n",
        "\n",
        "for i in items2:\n",
        "  sum_of_the_prices+=int(i[\"price\"])\n",
        "\n",
        "print(sum_of_the_prices)"
      ],
      "metadata": {
        "colab": {
          "base_uri": "https://localhost:8080/"
        },
        "id": "RnXmWPacNSUI",
        "outputId": "b36244b5-b9a2-453b-e184-54d642a7d034"
      },
      "execution_count": 33,
      "outputs": [
        {
          "output_type": "stream",
          "name": "stdout",
          "text": [
            "36000\n"
          ]
        }
      ]
    },
    {
      "cell_type": "code",
      "source": [
        "for i in items2:\n",
        "  if int(i[\"price\"])<=6000:\n",
        "    print(i[\"name\"])"
      ],
      "metadata": {
        "colab": {
          "base_uri": "https://localhost:8080/"
        },
        "id": "Anw8hEH5N2Wl",
        "outputId": "5f7c61c5-ca87-45da-b929-ea229c19aac9"
      },
      "execution_count": 35,
      "outputs": [
        {
          "output_type": "stream",
          "name": "stdout",
          "text": [
            "iphone 8\n",
            "iphone 8 Plus\n",
            "iphone X\n",
            "samsung S10\n"
          ]
        }
      ]
    },
    {
      "cell_type": "code",
      "source": [
        "for i in items2:\n",
        "  if int(i[\"price\"])<=6000:\n",
        "    print(f\"name:{i['name']} / price:{i['price']}\")"
      ],
      "metadata": {
        "colab": {
          "base_uri": "https://localhost:8080/"
        },
        "id": "-lUx7uscON_L",
        "outputId": "cbe1432b-ccc7-4a6d-fd6b-5cd48fbefb91"
      },
      "execution_count": 39,
      "outputs": [
        {
          "output_type": "stream",
          "name": "stdout",
          "text": [
            "name:iphone 8 / price:4000\n",
            "name:iphone 8 Plus / price:5000\n",
            "name:iphone X / price:6000\n",
            "name:samsung S10 / price:6000\n"
          ]
        }
      ]
    },
    {
      "cell_type": "code",
      "source": [
        "x = input(\"the product you look for: \")\n",
        "\n",
        "for i in items2:\n",
        "  t = i[\"name\"].find(x)\n",
        "  print(t)"
      ],
      "metadata": {
        "colab": {
          "base_uri": "https://localhost:8080/"
        },
        "id": "kB-c_XFPPRMb",
        "outputId": "4bdebf9b-eaf7-4e42-e0dc-697f991a6451"
      },
      "execution_count": 43,
      "outputs": [
        {
          "output_type": "stream",
          "name": "stdout",
          "text": [
            "the product you look for: iphone\n",
            "0\n",
            "0\n",
            "0\n",
            "0\n",
            "0\n",
            "-1\n"
          ]
        }
      ]
    },
    {
      "cell_type": "code",
      "source": [
        "x = input(\"the product/s you look for: \")\n",
        "\n",
        "for i in items2:\n",
        "  t = i[\"name\"].find(x)\n",
        "  if t > -1:\n",
        "    print(f\"name:{i['name']} price:{i['price']}\")"
      ],
      "metadata": {
        "colab": {
          "base_uri": "https://localhost:8080/"
        },
        "id": "L0meVGMpPoV9",
        "outputId": "8c23a0cc-509a-43d2-cf6d-e328b51a1ba2"
      },
      "execution_count": 45,
      "outputs": [
        {
          "output_type": "stream",
          "name": "stdout",
          "text": [
            "the product/s you look for: iphone\n",
            "name:iphone 8 price:4000\n",
            "name:iphone 8 Plus price:5000\n",
            "name:iphone X price:6000\n",
            "name:iphone XR price:7000\n",
            "name:iphone 11 price:8000\n"
          ]
        }
      ]
    },
    {
      "cell_type": "code",
      "source": [],
      "metadata": {
        "id": "7bbeAX-rP_g-"
      },
      "execution_count": null,
      "outputs": []
    }
  ]
}