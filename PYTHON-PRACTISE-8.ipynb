{
  "nbformat": 4,
  "nbformat_minor": 0,
  "metadata": {
    "colab": {
      "provenance": []
    },
    "kernelspec": {
      "name": "python3",
      "display_name": "Python 3"
    },
    "language_info": {
      "name": "python"
    }
  },
  "cells": [
    {
      "cell_type": "code",
      "source": [
        "for i in t:\n",
        "  print(t.count(i))"
      ],
      "metadata": {
        "colab": {
          "base_uri": "https://localhost:8080/"
        },
        "id": "4gN-y3FLZinE",
        "outputId": "011989ff-29fd-4647-86e0-351adbfb680b"
      },
      "execution_count": 13,
      "outputs": [
        {
          "output_type": "stream",
          "name": "stdout",
          "text": [
            "3\n",
            "1\n",
            "1\n",
            "3\n",
            "3\n"
          ]
        }
      ]
    },
    {
      "cell_type": "code",
      "source": [
        "def acar(x):\n",
        "  return {i for i in x} \n",
        "\n",
        "acar(\"abdulhalim\")"
      ],
      "metadata": {
        "colab": {
          "base_uri": "https://localhost:8080/"
        },
        "id": "Y821p_3ZZ5ww",
        "outputId": "176b3b25-5724-4346-adae-ad171ae6bf5e"
      },
      "execution_count": 14,
      "outputs": [
        {
          "output_type": "execute_result",
          "data": {
            "text/plain": [
              "{'a', 'b', 'd', 'h', 'i', 'l', 'm', 'u'}"
            ]
          },
          "metadata": {},
          "execution_count": 14
        }
      ]
    },
    {
      "cell_type": "code",
      "source": [
        "def acar(x):\n",
        "  return {i:x.count(i) for i in x} \n",
        "\n",
        "acar(\"abdulhalim\")"
      ],
      "metadata": {
        "colab": {
          "base_uri": "https://localhost:8080/"
        },
        "id": "y33wk4l2Z5zZ",
        "outputId": "25ea4851-897c-439f-f7e7-0a2114a9e363"
      },
      "execution_count": 15,
      "outputs": [
        {
          "output_type": "execute_result",
          "data": {
            "text/plain": [
              "{'a': 2, 'b': 1, 'd': 1, 'u': 1, 'l': 2, 'h': 1, 'i': 1, 'm': 1}"
            ]
          },
          "metadata": {},
          "execution_count": 15
        }
      ]
    },
    {
      "cell_type": "code",
      "source": [
        "def update(liste,command,position,value=None):\n",
        "  if (command==\"remove\" and position==\"end\"):\n",
        "    return liste.pop()\n",
        "  elif (command==\"remove\" and position==\"beginning\"):\n",
        "    return liste.pop(0)\n",
        "  elif (command==\"add\" and position==\"end\"):\n",
        "    liste.append(value)\n",
        "    return liste\n",
        "  elif (command==\"add\" and position==\"beginning\"):\n",
        "    liste.insert(0,value)\n",
        "    return liste\n",
        "\n",
        "update([1,2,3],\"add\",\"end\",5)"
      ],
      "metadata": {
        "colab": {
          "base_uri": "https://localhost:8080/"
        },
        "id": "cuc-l89MZ519",
        "outputId": "e83383d7-de05-4499-db41-221fb262a607"
      },
      "execution_count": 16,
      "outputs": [
        {
          "output_type": "execute_result",
          "data": {
            "text/plain": [
              "[1, 2, 3, 5]"
            ]
          },
          "metadata": {},
          "execution_count": 16
        }
      ]
    },
    {
      "cell_type": "code",
      "source": [
        "def contains_blue(*args):\n",
        "  if \"blue\" in args:\n",
        "    return True \n",
        "  else:\n",
        "    return False \n",
        "\n",
        "contains_blue(\"green\",\"yellow\",\"blue\")"
      ],
      "metadata": {
        "colab": {
          "base_uri": "https://localhost:8080/"
        },
        "id": "UbGi_fK1cd-B",
        "outputId": "1f7e8f60-09c4-4dd2-8c1a-929a9f9b0ead"
      },
      "execution_count": 18,
      "outputs": [
        {
          "output_type": "execute_result",
          "data": {
            "text/plain": [
              "True"
            ]
          },
          "metadata": {},
          "execution_count": 18
        }
      ]
    },
    {
      "cell_type": "code",
      "source": [
        "def multiply(x):\n",
        "  return x ** 2\n",
        "\n",
        "multiply(3)"
      ],
      "metadata": {
        "colab": {
          "base_uri": "https://localhost:8080/"
        },
        "id": "phTWYyvnc2DH",
        "outputId": "e1984385-37b8-411e-86c8-584ae013e751"
      },
      "execution_count": 19,
      "outputs": [
        {
          "output_type": "execute_result",
          "data": {
            "text/plain": [
              "9"
            ]
          },
          "metadata": {},
          "execution_count": 19
        }
      ]
    },
    {
      "cell_type": "code",
      "source": [
        "(lambda x : x ** 2)(3)"
      ],
      "metadata": {
        "colab": {
          "base_uri": "https://localhost:8080/"
        },
        "id": "8xZqdul7de1Q",
        "outputId": "5a6efe89-fcd1-4f96-e389-961f2af89c90"
      },
      "execution_count": 20,
      "outputs": [
        {
          "output_type": "execute_result",
          "data": {
            "text/plain": [
              "9"
            ]
          },
          "metadata": {},
          "execution_count": 20
        }
      ]
    },
    {
      "cell_type": "code",
      "source": [
        "lambda x,y,z: x+y+z"
      ],
      "metadata": {
        "colab": {
          "base_uri": "https://localhost:8080/"
        },
        "id": "0hU7oCevdpfJ",
        "outputId": "b281536e-d285-4a85-cf4b-faf189114fad"
      },
      "execution_count": 21,
      "outputs": [
        {
          "output_type": "execute_result",
          "data": {
            "text/plain": [
              "<function __main__.<lambda>(x, y, z)>"
            ]
          },
          "metadata": {},
          "execution_count": 21
        }
      ]
    },
    {
      "cell_type": "code",
      "source": [
        "t = lambda x,y,z: x+y+z"
      ],
      "metadata": {
        "id": "9OL1gNihd4Ng"
      },
      "execution_count": 22,
      "outputs": []
    },
    {
      "cell_type": "code",
      "source": [
        "t(1,2,3)"
      ],
      "metadata": {
        "colab": {
          "base_uri": "https://localhost:8080/"
        },
        "id": "OQCqaIRzd6Wl",
        "outputId": "dbfa3cfb-1200-46d2-c0b3-4cee7329658f"
      },
      "execution_count": 23,
      "outputs": [
        {
          "output_type": "execute_result",
          "data": {
            "text/plain": [
              "6"
            ]
          },
          "metadata": {},
          "execution_count": 23
        }
      ]
    },
    {
      "cell_type": "code",
      "source": [
        "reverse = (lambda x:x[::-1])\n",
        "\n",
        "reverse(\"general\")"
      ],
      "metadata": {
        "colab": {
          "base_uri": "https://localhost:8080/",
          "height": 36
        },
        "id": "1tEXt88qd7Qo",
        "outputId": "6b2132d5-2397-400c-f490-db239ebba730"
      },
      "execution_count": 24,
      "outputs": [
        {
          "output_type": "execute_result",
          "data": {
            "text/plain": [
              "'lareneg'"
            ],
            "application/vnd.google.colaboratory.intrinsic+json": {
              "type": "string"
            }
          },
          "metadata": {},
          "execution_count": 24
        }
      ]
    },
    {
      "cell_type": "code",
      "source": [
        "def myfunc(n):\n",
        "  return lambda x: n*x \n",
        "\n",
        "first=myfunc(8)\n",
        "second = first(4)\n",
        "\n",
        "print(second)"
      ],
      "metadata": {
        "colab": {
          "base_uri": "https://localhost:8080/"
        },
        "id": "L28HUvEDeJyt",
        "outputId": "10991f4c-f7aa-4287-fe85-d3a81a8699ab"
      },
      "execution_count": 27,
      "outputs": [
        {
          "output_type": "stream",
          "name": "stdout",
          "text": [
            "32\n"
          ]
        }
      ]
    },
    {
      "cell_type": "code",
      "source": [],
      "metadata": {
        "id": "xWHgvzbPeueA"
      },
      "execution_count": null,
      "outputs": []
    }
  ]
}