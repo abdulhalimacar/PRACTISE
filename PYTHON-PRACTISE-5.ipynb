{
  "nbformat": 4,
  "nbformat_minor": 0,
  "metadata": {
    "colab": {
      "provenance": []
    },
    "kernelspec": {
      "name": "python3",
      "display_name": "Python 3"
    },
    "language_info": {
      "name": "python"
    }
  },
  "cells": [
    {
      "cell_type": "code",
      "source": [
        "[i for i in range(1,101) if i % 12 == 0]"
      ],
      "metadata": {
        "colab": {
          "base_uri": "https://localhost:8080/"
        },
        "id": "A105IlREs4vd",
        "outputId": "8a6cf295-795a-42e4-a41a-f24497890970"
      },
      "execution_count": 7,
      "outputs": [
        {
          "output_type": "execute_result",
          "data": {
            "text/plain": [
              "[12, 24, 36, 48, 60, 72, 84, 96]"
            ]
          },
          "metadata": {},
          "execution_count": 7
        }
      ]
    },
    {
      "cell_type": "code",
      "source": [
        "names = [\"alex\",\"DavId\",\"MarKuS\",\"JaCk\"]"
      ],
      "metadata": {
        "id": "m3NkgnEitDpb"
      },
      "execution_count": 8,
      "outputs": []
    },
    {
      "cell_type": "code",
      "source": [
        "names[::-1]"
      ],
      "metadata": {
        "colab": {
          "base_uri": "https://localhost:8080/"
        },
        "id": "s59Rz-XgtSx-",
        "outputId": "ba7cd32e-1f7e-4034-ace0-d68627e171ff"
      },
      "execution_count": 10,
      "outputs": [
        {
          "output_type": "execute_result",
          "data": {
            "text/plain": [
              "['JaCk', 'MarKuS', 'DavId', 'alex']"
            ]
          },
          "metadata": {},
          "execution_count": 10
        }
      ]
    },
    {
      "cell_type": "code",
      "source": [
        "[i.lower() for i in names[::-1]]"
      ],
      "metadata": {
        "colab": {
          "base_uri": "https://localhost:8080/"
        },
        "id": "P3JWfRRmtO1m",
        "outputId": "a319dea5-fa3f-4980-aafb-6c4b223f812e"
      },
      "execution_count": 11,
      "outputs": [
        {
          "output_type": "execute_result",
          "data": {
            "text/plain": [
              "['jack', 'markus', 'david', 'alex']"
            ]
          },
          "metadata": {},
          "execution_count": 11
        }
      ]
    },
    {
      "cell_type": "code",
      "source": [
        "[i.lower()[::-1] for i in names]"
      ],
      "metadata": {
        "colab": {
          "base_uri": "https://localhost:8080/"
        },
        "id": "I63hdtKjtYEG",
        "outputId": "62239e2e-35f3-448a-b4dc-502716e6e742"
      },
      "execution_count": 12,
      "outputs": [
        {
          "output_type": "execute_result",
          "data": {
            "text/plain": [
              "['xela', 'divad', 'sukram', 'kcaj']"
            ]
          },
          "metadata": {},
          "execution_count": 12
        }
      ]
    },
    {
      "cell_type": "code",
      "source": [
        "string = \"Hello 12345 World\""
      ],
      "metadata": {
        "id": "jy3Mc1KttjSp"
      },
      "execution_count": 13,
      "outputs": []
    },
    {
      "cell_type": "code",
      "source": [
        "[i for i in string if i.isdigit()]"
      ],
      "metadata": {
        "colab": {
          "base_uri": "https://localhost:8080/"
        },
        "id": "83qNJp11toUW",
        "outputId": "f837d1ce-86ac-462b-e8b8-0f127ef5621b"
      },
      "execution_count": 14,
      "outputs": [
        {
          "output_type": "execute_result",
          "data": {
            "text/plain": [
              "['1', '2', '3', '4', '5']"
            ]
          },
          "metadata": {},
          "execution_count": 14
        }
      ]
    },
    {
      "cell_type": "code",
      "source": [
        "years = [1983,1999,2008,1956,1986]"
      ],
      "metadata": {
        "id": "OOOe18uZtuKa"
      },
      "execution_count": 15,
      "outputs": []
    },
    {
      "cell_type": "code",
      "source": [
        "age_base_year_2023 = [2023-i for i in years]\n",
        "age_base_year_2023 "
      ],
      "metadata": {
        "colab": {
          "base_uri": "https://localhost:8080/"
        },
        "id": "wizDqBPrtzad",
        "outputId": "54d63ef1-4759-4ff6-be6e-ac07ddf529ed"
      },
      "execution_count": 17,
      "outputs": [
        {
          "output_type": "execute_result",
          "data": {
            "text/plain": [
              "[40, 24, 15, 67, 37]"
            ]
          },
          "metadata": {},
          "execution_count": 17
        }
      ]
    },
    {
      "cell_type": "code",
      "source": [
        "grads = [20,5,15,-2,0,-6]"
      ],
      "metadata": {
        "id": "n6hFcD7Kt7Pb"
      },
      "execution_count": 18,
      "outputs": []
    },
    {
      "cell_type": "code",
      "source": [
        "[i if i > 0 else \"danger of icing\" for i in grads]"
      ],
      "metadata": {
        "colab": {
          "base_uri": "https://localhost:8080/"
        },
        "id": "K0aw7CNXuCYe",
        "outputId": "9d0f7560-290b-4f22-c2ca-1c8aa8126997"
      },
      "execution_count": 20,
      "outputs": [
        {
          "output_type": "execute_result",
          "data": {
            "text/plain": [
              "[20, 5, 15, 'danger of icing', 'danger of icing', 'danger of icing']"
            ]
          },
          "metadata": {},
          "execution_count": 20
        }
      ]
    },
    {
      "cell_type": "code",
      "source": [
        "years2 = [1983,1999,2008,1956,1986]"
      ],
      "metadata": {
        "id": "U2ebw1YRuUA1"
      },
      "execution_count": 21,
      "outputs": []
    },
    {
      "cell_type": "code",
      "source": [
        "import datetime"
      ],
      "metadata": {
        "id": "Fv_dVDsvurdD"
      },
      "execution_count": 22,
      "outputs": []
    },
    {
      "cell_type": "code",
      "source": [
        "now = datetime.datetime.now().year"
      ],
      "metadata": {
        "id": "a8H8JKEZuuUo"
      },
      "execution_count": 23,
      "outputs": []
    },
    {
      "cell_type": "code",
      "source": [
        "now"
      ],
      "metadata": {
        "colab": {
          "base_uri": "https://localhost:8080/"
        },
        "id": "5QxQpg1ruyXl",
        "outputId": "e5411227-4d9d-4e3b-dca7-a3555a8158ac"
      },
      "execution_count": 24,
      "outputs": [
        {
          "output_type": "execute_result",
          "data": {
            "text/plain": [
              "2023"
            ]
          },
          "metadata": {},
          "execution_count": 24
        }
      ]
    },
    {
      "cell_type": "code",
      "source": [
        "age = [now-year for year in years2]"
      ],
      "metadata": {
        "id": "dk15FpGxuyqK"
      },
      "execution_count": 25,
      "outputs": []
    },
    {
      "cell_type": "code",
      "source": [
        "age"
      ],
      "metadata": {
        "colab": {
          "base_uri": "https://localhost:8080/"
        },
        "id": "Erxts7I3u5Ew",
        "outputId": "e360a427-3fd1-4034-b09b-3a7d92c4e120"
      },
      "execution_count": 26,
      "outputs": [
        {
          "output_type": "execute_result",
          "data": {
            "text/plain": [
              "[40, 24, 15, 67, 37]"
            ]
          },
          "metadata": {},
          "execution_count": 26
        }
      ]
    },
    {
      "cell_type": "code",
      "source": [
        "def calculator(long,short):\n",
        "  area_of_rectangle = long*short\n",
        "  perimeter_of_rectangle = 2 * (long+short) \n",
        "  \n",
        "  print(f\"area: {area_of_rectangle} perimeter:{perimeter_of_rectangle}\")\n",
        "\n",
        "calculator(3,4)"
      ],
      "metadata": {
        "colab": {
          "base_uri": "https://localhost:8080/"
        },
        "id": "IY7Sdhx3vnyR",
        "outputId": "c1f3067b-ab64-40f5-f284-7e37344eba58"
      },
      "execution_count": 31,
      "outputs": [
        {
          "output_type": "stream",
          "name": "stdout",
          "text": [
            "area: 12 perimeter:14\n"
          ]
        }
      ]
    },
    {
      "cell_type": "code",
      "source": [
        "import numpy\n",
        "import random"
      ],
      "metadata": {
        "id": "ijxfIe7DwMYI"
      },
      "execution_count": 39,
      "outputs": []
    },
    {
      "cell_type": "code",
      "source": [
        "random.random()"
      ],
      "metadata": {
        "colab": {
          "base_uri": "https://localhost:8080/"
        },
        "id": "6n3jM-x2wkp3",
        "outputId": "f2e7f64c-39c3-4078-c602-1c9dd6fb4dd5"
      },
      "execution_count": 42,
      "outputs": [
        {
          "output_type": "execute_result",
          "data": {
            "text/plain": [
              "0.6309261630386737"
            ]
          },
          "metadata": {},
          "execution_count": 42
        }
      ]
    },
    {
      "cell_type": "code",
      "source": [
        "def headstail():\n",
        "  number = random.random()\n",
        "\n",
        "  if number>0.5:\n",
        "    return f\"{number} tail\"\n",
        "  else:\n",
        "    return f\" {number} head\"\n",
        "\n",
        "print(headstail())"
      ],
      "metadata": {
        "colab": {
          "base_uri": "https://localhost:8080/"
        },
        "id": "xc-KgR5Xwlbe",
        "outputId": "425eea2e-fe81-4d61-c9d1-db0227571f0f"
      },
      "execution_count": 50,
      "outputs": [
        {
          "output_type": "stream",
          "name": "stdout",
          "text": [
            "0.6888595527232024 tail\n"
          ]
        }
      ]
    },
    {
      "cell_type": "code",
      "source": [
        "for i in range(2,14):\n",
        "  if i > 1:\n",
        "    for t in range(2,i):\n",
        "      if (i%t==0):\n",
        "        break \n",
        "    else:\n",
        "      print(i)"
      ],
      "metadata": {
        "colab": {
          "base_uri": "https://localhost:8080/"
        },
        "id": "fmNrPdgfyHTy",
        "outputId": "2c219ca0-0d22-4f2b-dd7b-beccb83b254f"
      },
      "execution_count": 55,
      "outputs": [
        {
          "output_type": "stream",
          "name": "stdout",
          "text": [
            "2\n",
            "3\n",
            "5\n",
            "7\n",
            "11\n",
            "13\n"
          ]
        }
      ]
    },
    {
      "cell_type": "code",
      "source": [
        "x = int(input(\"enter: \"))\n",
        "y = []\n",
        "\n",
        "\n",
        "for i in range(1,x+1):\n",
        "  if x % i == 0:\n",
        "    y.append(i)\n",
        "print(y)"
      ],
      "metadata": {
        "colab": {
          "base_uri": "https://localhost:8080/"
        },
        "id": "MfZ_tcChyqsW",
        "outputId": "b6656354-a973-4aff-d4c3-347537428a58"
      },
      "execution_count": 57,
      "outputs": [
        {
          "output_type": "stream",
          "name": "stdout",
          "text": [
            "enter: 12\n",
            "[1, 2, 3, 4, 6, 12]\n"
          ]
        }
      ]
    },
    {
      "cell_type": "code",
      "source": [
        "def divisor(x):\n",
        "\n",
        "  divisors = []\n",
        "\n",
        "  for i in range(1,x+1):\n",
        "    if x % i == 0:\n",
        "      divisors.append(i) \n",
        "\n",
        "  return divisors \n",
        "\n",
        "divisor(12)"
      ],
      "metadata": {
        "colab": {
          "base_uri": "https://localhost:8080/"
        },
        "id": "x6RLm_t61Idy",
        "outputId": "da95bacb-698c-4235-fdcd-e3d1bc3da620"
      },
      "execution_count": 60,
      "outputs": [
        {
          "output_type": "execute_result",
          "data": {
            "text/plain": [
              "[1, 2, 3, 4, 6, 12]"
            ]
          },
          "metadata": {},
          "execution_count": 60
        }
      ]
    }
  ]
}