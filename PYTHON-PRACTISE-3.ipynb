{
  "nbformat": 4,
  "nbformat_minor": 0,
  "metadata": {
    "colab": {
      "provenance": []
    },
    "kernelspec": {
      "name": "python3",
      "display_name": "Python 3"
    },
    "language_info": {
      "name": "python"
    }
  },
  "cells": [
    {
      "cell_type": "code",
      "source": [
        "i = 0 \n",
        "numbers = int(input(\"how many items do you want to add to your basket?: \"))\n",
        "items = []\n",
        "\n",
        "while (numbers>i):\n",
        "  name = input(\"item name: \")\n",
        "  price = input(\"item price: \")\n",
        "  items.append({\n",
        "      \"item name\":name,\n",
        "      \"item price\":price\n",
        "  })\n",
        "  i+=1\n",
        "\n",
        "print(items)\n"
      ],
      "metadata": {
        "colab": {
          "base_uri": "https://localhost:8080/"
        },
        "id": "9bLDniLO9Ixz",
        "outputId": "ebeb0ab9-3cdf-4a7e-cf7e-fc6204ba48ba"
      },
      "execution_count": 4,
      "outputs": [
        {
          "output_type": "stream",
          "name": "stdout",
          "text": [
            "how many items do you want to add to your basket?: 3\n",
            "item name: samsung s10\n",
            "item price: 7600\n",
            "item name: macbook air\n",
            "item price: 12000\n",
            "item name: iphone X\n",
            "item price: 20000\n",
            "[{'item name': 'samsung s10', 'item price': '7600'}, {'item name': 'macbook air', 'item price': '12000'}, {'item name': 'iphone X', 'item price': '20000'}]\n"
          ]
        }
      ]
    },
    {
      "cell_type": "code",
      "source": [
        "for i in items:\n",
        "  print(i)"
      ],
      "metadata": {
        "colab": {
          "base_uri": "https://localhost:8080/"
        },
        "id": "r0KiTlel9mMv",
        "outputId": "fbb0c780-dfa1-4a87-bc0d-6d84ecaabd0d"
      },
      "execution_count": 5,
      "outputs": [
        {
          "output_type": "stream",
          "name": "stdout",
          "text": [
            "{'item name': 'samsung s10', 'item price': '7600'}\n",
            "{'item name': 'macbook air', 'item price': '12000'}\n",
            "{'item name': 'iphone X', 'item price': '20000'}\n"
          ]
        }
      ]
    },
    {
      "cell_type": "code",
      "source": [
        "for i in items:\n",
        "  print(f\"item name: {i['item name']} item price:{i['item price']}\")"
      ],
      "metadata": {
        "colab": {
          "base_uri": "https://localhost:8080/"
        },
        "id": "9gFYwsYL9-eL",
        "outputId": "7cad5edd-464c-42d6-be29-bf8937a52693"
      },
      "execution_count": 10,
      "outputs": [
        {
          "output_type": "stream",
          "name": "stdout",
          "text": [
            "item name: samsung s10 item price:7600\n",
            "item name: macbook air item price:12000\n",
            "item name: iphone X item price:20000\n"
          ]
        }
      ]
    },
    {
      "cell_type": "code",
      "source": [
        "i = 0 \n",
        "\n",
        "while (i<len(items)):\n",
        "  print(items[i])\n",
        "  i+=1 "
      ],
      "metadata": {
        "colab": {
          "base_uri": "https://localhost:8080/"
        },
        "id": "TUoExrio-QRG",
        "outputId": "77f30634-e125-46a9-8668-d9448b9abaea"
      },
      "execution_count": 12,
      "outputs": [
        {
          "output_type": "stream",
          "name": "stdout",
          "text": [
            "{'item name': 'samsung s10', 'item price': '7600'}\n",
            "{'item name': 'macbook air', 'item price': '12000'}\n",
            "{'item name': 'iphone X', 'item price': '20000'}\n"
          ]
        }
      ]
    },
    {
      "cell_type": "code",
      "source": [
        "name = \"Abdulhalim Acar\"\n",
        "\n",
        "for i in name:\n",
        "  if i == \"a\":\n",
        "    continue \n",
        "  print(i)"
      ],
      "metadata": {
        "colab": {
          "base_uri": "https://localhost:8080/"
        },
        "id": "4qi0cyEm_Dxk",
        "outputId": "45ee7ed3-c58f-4813-fa40-61f45241bd62"
      },
      "execution_count": 13,
      "outputs": [
        {
          "output_type": "stream",
          "name": "stdout",
          "text": [
            "A\n",
            "b\n",
            "d\n",
            "u\n",
            "l\n",
            "h\n",
            "l\n",
            "i\n",
            "m\n",
            " \n",
            "A\n",
            "c\n",
            "r\n"
          ]
        }
      ]
    },
    {
      "cell_type": "code",
      "source": [
        "name = \"Abdulhalim Acar\"\n",
        "\n",
        "for i in name:\n",
        "  if i == \"a\":\n",
        "    break  \n",
        "  print(i)"
      ],
      "metadata": {
        "colab": {
          "base_uri": "https://localhost:8080/"
        },
        "id": "25ffxIfe_8-S",
        "outputId": "84605b0a-21b3-47c9-c7d5-68b6d85c9c9d"
      },
      "execution_count": 14,
      "outputs": [
        {
          "output_type": "stream",
          "name": "stdout",
          "text": [
            "A\n",
            "b\n",
            "d\n",
            "u\n",
            "l\n",
            "h\n"
          ]
        }
      ]
    },
    {
      "cell_type": "code",
      "source": [
        "i = 0 \n",
        "\n",
        "while i < 5:\n",
        "  if i == 2:\n",
        "    break \n",
        "  i+=1\n",
        "  print(i)"
      ],
      "metadata": {
        "colab": {
          "base_uri": "https://localhost:8080/"
        },
        "id": "Uw6EQATwAlhA",
        "outputId": "05a959fe-e3c6-4cda-da98-7efd0c31da34"
      },
      "execution_count": 16,
      "outputs": [
        {
          "output_type": "stream",
          "name": "stdout",
          "text": [
            "1\n",
            "2\n"
          ]
        }
      ]
    },
    {
      "cell_type": "code",
      "source": [
        "i = 0 \n",
        "\n",
        "while i < 5:\n",
        "  if i == 4:\n",
        "    break \n",
        "  i+=1\n",
        "  print(i)"
      ],
      "metadata": {
        "colab": {
          "base_uri": "https://localhost:8080/"
        },
        "id": "ALnOiysuAsWm",
        "outputId": "8ac8b576-18dc-4544-c1d6-768faa784562"
      },
      "execution_count": 17,
      "outputs": [
        {
          "output_type": "stream",
          "name": "stdout",
          "text": [
            "1\n",
            "2\n",
            "3\n",
            "4\n"
          ]
        }
      ]
    },
    {
      "cell_type": "code",
      "source": [
        "i = 0 \n",
        "\n",
        "while i < 5:\n",
        "  if i == -1:\n",
        "    break \n",
        "  i+=1\n",
        "  print(i)"
      ],
      "metadata": {
        "colab": {
          "base_uri": "https://localhost:8080/"
        },
        "id": "mqBdbVmgAuGG",
        "outputId": "e6a8d855-aad9-4f7e-da31-43489b1eb3ec"
      },
      "execution_count": 18,
      "outputs": [
        {
          "output_type": "stream",
          "name": "stdout",
          "text": [
            "1\n",
            "2\n",
            "3\n",
            "4\n",
            "5\n"
          ]
        }
      ]
    },
    {
      "cell_type": "code",
      "source": [
        "i = 0 \n",
        "\n",
        "while i < 10:\n",
        "  if i % 2 == 1:\n",
        "    break \n",
        "  i+=1\n",
        "  print(i)"
      ],
      "metadata": {
        "colab": {
          "base_uri": "https://localhost:8080/"
        },
        "id": "ulgzo8mtAwNn",
        "outputId": "38f4ae31-f05a-4248-fc8d-78401bbcaeea"
      },
      "execution_count": 21,
      "outputs": [
        {
          "output_type": "stream",
          "name": "stdout",
          "text": [
            "1\n"
          ]
        }
      ]
    },
    {
      "cell_type": "code",
      "source": [
        "i = 0 \n",
        "\n",
        "while i < 10:\n",
        "  if i % 2 == 1:\n",
        "    continue \n",
        "  i+=1\n",
        "  print(i)\n",
        "\n",
        "# the code below continue will not work when it finds an odd number. That's why it enters an endless loop."
      ],
      "metadata": {
        "colab": {
          "base_uri": "https://localhost:8080/",
          "height": 253
        },
        "id": "HpjLdnjdA1Wo",
        "outputId": "b85d2a15-c753-426e-9ab0-95c71bdaf752"
      },
      "execution_count": 23,
      "outputs": [
        {
          "output_type": "stream",
          "name": "stdout",
          "text": [
            "1\n"
          ]
        },
        {
          "output_type": "error",
          "ename": "KeyboardInterrupt",
          "evalue": "ignored",
          "traceback": [
            "\u001b[0;31m---------------------------------------------------------------------------\u001b[0m",
            "\u001b[0;31mKeyboardInterrupt\u001b[0m                         Traceback (most recent call last)",
            "\u001b[0;32m<ipython-input-23-e61bca0c0086>\u001b[0m in \u001b[0;36m<module>\u001b[0;34m\u001b[0m\n\u001b[1;32m      3\u001b[0m \u001b[0;32mwhile\u001b[0m \u001b[0mi\u001b[0m \u001b[0;34m<\u001b[0m \u001b[0;36m10\u001b[0m\u001b[0;34m:\u001b[0m\u001b[0;34m\u001b[0m\u001b[0;34m\u001b[0m\u001b[0m\n\u001b[1;32m      4\u001b[0m   \u001b[0;32mif\u001b[0m \u001b[0mi\u001b[0m \u001b[0;34m%\u001b[0m \u001b[0;36m2\u001b[0m \u001b[0;34m==\u001b[0m \u001b[0;36m1\u001b[0m\u001b[0;34m:\u001b[0m\u001b[0;34m\u001b[0m\u001b[0;34m\u001b[0m\u001b[0m\n\u001b[0;32m----> 5\u001b[0;31m     \u001b[0;32mcontinue\u001b[0m\u001b[0;34m\u001b[0m\u001b[0;34m\u001b[0m\u001b[0m\n\u001b[0m\u001b[1;32m      6\u001b[0m   \u001b[0mi\u001b[0m\u001b[0;34m+=\u001b[0m\u001b[0;36m1\u001b[0m\u001b[0;34m\u001b[0m\u001b[0;34m\u001b[0m\u001b[0m\n\u001b[1;32m      7\u001b[0m   \u001b[0mprint\u001b[0m\u001b[0;34m(\u001b[0m\u001b[0mi\u001b[0m\u001b[0;34m)\u001b[0m\u001b[0;34m\u001b[0m\u001b[0;34m\u001b[0m\u001b[0m\n",
            "\u001b[0;31mKeyboardInterrupt\u001b[0m: "
          ]
        }
      ]
    },
    {
      "cell_type": "code",
      "source": [
        "i = 0 \n",
        "\n",
        "while i < 10:\n",
        "  i+=1\n",
        "  if i % 2 == 1:\n",
        "    continue \n",
        "  print(i)\n"
      ],
      "metadata": {
        "colab": {
          "base_uri": "https://localhost:8080/"
        },
        "id": "hov-KjaBA-Gk",
        "outputId": "20a7c905-ce92-4db0-9512-63ce00598a21"
      },
      "execution_count": 24,
      "outputs": [
        {
          "output_type": "stream",
          "name": "stdout",
          "text": [
            "2\n",
            "4\n",
            "6\n",
            "8\n",
            "10\n"
          ]
        }
      ]
    },
    {
      "cell_type": "code",
      "source": [
        "i = 0 \n",
        "\n",
        "while i < 41:\n",
        "  print(i)\n",
        "  i+=1 "
      ],
      "metadata": {
        "colab": {
          "base_uri": "https://localhost:8080/"
        },
        "id": "-1udCYTrBavZ",
        "outputId": "6e5385ec-f36d-4742-c47c-6b699be849cb"
      },
      "execution_count": 27,
      "outputs": [
        {
          "output_type": "stream",
          "name": "stdout",
          "text": [
            "0\n",
            "1\n",
            "2\n",
            "3\n",
            "4\n",
            "5\n",
            "6\n",
            "7\n",
            "8\n",
            "9\n",
            "10\n",
            "11\n",
            "12\n",
            "13\n",
            "14\n",
            "15\n",
            "16\n",
            "17\n",
            "18\n",
            "19\n",
            "20\n",
            "21\n",
            "22\n",
            "23\n",
            "24\n",
            "25\n",
            "26\n",
            "27\n",
            "28\n",
            "29\n",
            "30\n",
            "31\n",
            "32\n",
            "33\n",
            "34\n",
            "35\n",
            "36\n",
            "37\n",
            "38\n",
            "39\n",
            "40\n"
          ]
        }
      ]
    },
    {
      "cell_type": "code",
      "source": [
        "i = 0 \n",
        "sum = 0 \n",
        "\n",
        "while i < 101:\n",
        "  sum+=i\n",
        "  i+=1\n",
        "\n",
        "print(sum)"
      ],
      "metadata": {
        "colab": {
          "base_uri": "https://localhost:8080/"
        },
        "id": "_Rbi1_pKBl-N",
        "outputId": "684d90bb-7470-41fc-cf8f-e5c47c5c712b"
      },
      "execution_count": 36,
      "outputs": [
        {
          "output_type": "stream",
          "name": "stdout",
          "text": [
            "5050\n"
          ]
        }
      ]
    },
    {
      "cell_type": "code",
      "source": [
        "i = 0 \n",
        "sum = 0 \n",
        "\n",
        "while i < 101:\n",
        "  if i % 2 == 0:\n",
        "    sum+=i\n",
        "  i+=1 \n",
        "\n",
        "print(sum)"
      ],
      "metadata": {
        "colab": {
          "base_uri": "https://localhost:8080/"
        },
        "id": "73-528sTB4eg",
        "outputId": "155cec2f-497e-4e6d-d931-d11079a6b3e5"
      },
      "execution_count": 35,
      "outputs": [
        {
          "output_type": "stream",
          "name": "stdout",
          "text": [
            "2550\n"
          ]
        }
      ]
    },
    {
      "cell_type": "code",
      "source": [
        "i = 0 \n",
        "sum = 0 \n",
        "\n",
        "while i < 101:\n",
        "  i+=1\n",
        "  if i % 2 == 1:\n",
        "    continue\n",
        "  sum+=i\n",
        "   \n",
        "\n",
        "print(sum)"
      ],
      "metadata": {
        "colab": {
          "base_uri": "https://localhost:8080/"
        },
        "id": "O2GaMsWpDzfX",
        "outputId": "7d36f5bd-7c9f-47b5-d4df-3578af390a28"
      },
      "execution_count": 42,
      "outputs": [
        {
          "output_type": "stream",
          "name": "stdout",
          "text": [
            "2550\n"
          ]
        }
      ]
    },
    {
      "cell_type": "code",
      "source": [
        "i = 0 \n",
        "\n",
        "while i < 10:\n",
        "  i+=1\n",
        "  if i == 4:\n",
        "    continue \n",
        "  print(i)"
      ],
      "metadata": {
        "colab": {
          "base_uri": "https://localhost:8080/"
        },
        "id": "v-PfmqYLCSkI",
        "outputId": "afe72739-469f-40bd-c76c-7a181b23a8b1"
      },
      "execution_count": 39,
      "outputs": [
        {
          "output_type": "stream",
          "name": "stdout",
          "text": [
            "1\n",
            "2\n",
            "3\n",
            "5\n",
            "6\n",
            "7\n",
            "8\n",
            "9\n",
            "10\n"
          ]
        }
      ]
    },
    {
      "cell_type": "code",
      "source": [
        "i = 0 \n",
        "\n",
        "while i < 10:\n",
        "  i+=1\n",
        "  if i == 4:\n",
        "    break \n",
        "  print(i)"
      ],
      "metadata": {
        "colab": {
          "base_uri": "https://localhost:8080/"
        },
        "id": "L9sj2iCtDVQC",
        "outputId": "8373c1e3-a297-4c5c-8818-a5133034e761"
      },
      "execution_count": 40,
      "outputs": [
        {
          "output_type": "stream",
          "name": "stdout",
          "text": [
            "1\n",
            "2\n",
            "3\n"
          ]
        }
      ]
    },
    {
      "cell_type": "code",
      "source": [
        "for i in range(1,8):\n",
        "  print(i)"
      ],
      "metadata": {
        "colab": {
          "base_uri": "https://localhost:8080/"
        },
        "id": "uYt0awXWDpGm",
        "outputId": "7f128327-86d2-4b6e-fc6e-65e6b4bda427"
      },
      "execution_count": 44,
      "outputs": [
        {
          "output_type": "stream",
          "name": "stdout",
          "text": [
            "1\n",
            "2\n",
            "3\n",
            "4\n",
            "5\n",
            "6\n",
            "7\n"
          ]
        }
      ]
    },
    {
      "cell_type": "code",
      "source": [
        "for i in range(1,8,2):\n",
        "  print(i)"
      ],
      "metadata": {
        "colab": {
          "base_uri": "https://localhost:8080/"
        },
        "id": "VtDjnKAbE2IX",
        "outputId": "72a71e74-e041-4736-ba94-4da5d19932a6"
      },
      "execution_count": 45,
      "outputs": [
        {
          "output_type": "stream",
          "name": "stdout",
          "text": [
            "1\n",
            "3\n",
            "5\n",
            "7\n"
          ]
        }
      ]
    },
    {
      "cell_type": "code",
      "source": [
        "for i in range(8,1,-2):\n",
        "  print(i)"
      ],
      "metadata": {
        "colab": {
          "base_uri": "https://localhost:8080/"
        },
        "id": "CGdNtqB4E8BA",
        "outputId": "51209292-523c-4817-ed70-e0798333a1d3"
      },
      "execution_count": 47,
      "outputs": [
        {
          "output_type": "stream",
          "name": "stdout",
          "text": [
            "8\n",
            "6\n",
            "4\n",
            "2\n"
          ]
        }
      ]
    },
    {
      "cell_type": "code",
      "source": [
        "for i in range(8,5,-1):\n",
        "  print(i)"
      ],
      "metadata": {
        "colab": {
          "base_uri": "https://localhost:8080/"
        },
        "id": "O6NewVhQE9Yr",
        "outputId": "5028b237-ff97-4f34-d914-73a5f71fb08f"
      },
      "execution_count": 49,
      "outputs": [
        {
          "output_type": "stream",
          "name": "stdout",
          "text": [
            "8\n",
            "7\n",
            "6\n"
          ]
        }
      ]
    },
    {
      "cell_type": "code",
      "source": [
        "brands = [\"BMW\",\"Volkswagen\",\"Mercedes\"]\n",
        "\n",
        "for i in brands:\n",
        "  print(i)"
      ],
      "metadata": {
        "colab": {
          "base_uri": "https://localhost:8080/"
        },
        "id": "Q84m3e1qFAev",
        "outputId": "36da7b50-0a65-4bf1-cbaa-63aab7a9d0f6"
      },
      "execution_count": 50,
      "outputs": [
        {
          "output_type": "stream",
          "name": "stdout",
          "text": [
            "BMW\n",
            "Volkswagen\n",
            "Mercedes\n"
          ]
        }
      ]
    },
    {
      "cell_type": "code",
      "source": [
        "brands = [\"BMW\",\"Volkswagen\",\"Mercedes\"]\n",
        "index = 0 \n",
        "\n",
        "for i in brands:\n",
        "  print(f\"{index}-{i}\")"
      ],
      "metadata": {
        "colab": {
          "base_uri": "https://localhost:8080/"
        },
        "id": "NOzan8vnFe85",
        "outputId": "b0fecb5c-0149-4dbb-d644-a66287da1405"
      },
      "execution_count": 51,
      "outputs": [
        {
          "output_type": "stream",
          "name": "stdout",
          "text": [
            "0-BMW\n",
            "0-Volkswagen\n",
            "0-Mercedes\n"
          ]
        }
      ]
    },
    {
      "cell_type": "code",
      "source": [
        "brands = [\"BMW\",\"Volkswagen\",\"Mercedes\"]\n",
        "index = 0 \n",
        "\n",
        "for i in brands:\n",
        "  print(f\"{index}-{i}\")\n",
        "  index+=1"
      ],
      "metadata": {
        "colab": {
          "base_uri": "https://localhost:8080/"
        },
        "id": "zjjfDqt0FkXo",
        "outputId": "9f675076-5c35-46a1-db52-843b15715b99"
      },
      "execution_count": 54,
      "outputs": [
        {
          "output_type": "stream",
          "name": "stdout",
          "text": [
            "0-BMW\n",
            "1-Volkswagen\n",
            "2-Mercedes\n"
          ]
        }
      ]
    },
    {
      "cell_type": "code",
      "source": [
        "for i in enumerate(brands):\n",
        "  print(i)"
      ],
      "metadata": {
        "colab": {
          "base_uri": "https://localhost:8080/"
        },
        "id": "JbzhDC3XFnb4",
        "outputId": "651f51df-de71-403c-ca39-6753875e02cf"
      },
      "execution_count": 55,
      "outputs": [
        {
          "output_type": "stream",
          "name": "stdout",
          "text": [
            "(0, 'BMW')\n",
            "(1, 'Volkswagen')\n",
            "(2, 'Mercedes')\n"
          ]
        }
      ]
    },
    {
      "cell_type": "code",
      "source": [
        "obj = enumerate(brands)\n",
        "print(list(obj))"
      ],
      "metadata": {
        "colab": {
          "base_uri": "https://localhost:8080/"
        },
        "id": "cj_zYz8YGNfX",
        "outputId": "dc5bc0d4-ba5b-4887-8737-dafa49aa0629"
      },
      "execution_count": 56,
      "outputs": [
        {
          "output_type": "stream",
          "name": "stdout",
          "text": [
            "[(0, 'BMW'), (1, 'Volkswagen'), (2, 'Mercedes')]\n"
          ]
        }
      ]
    },
    {
      "cell_type": "code",
      "source": [
        "for index,value in enumerate(brands):\n",
        "  print(index,value)"
      ],
      "metadata": {
        "colab": {
          "base_uri": "https://localhost:8080/"
        },
        "id": "FFuudWmzGTMq",
        "outputId": "a50d1c7b-2b2a-4d8c-f8a5-3bf550e4e909"
      },
      "execution_count": 58,
      "outputs": [
        {
          "output_type": "stream",
          "name": "stdout",
          "text": [
            "0 BMW\n",
            "1 Volkswagen\n",
            "2 Mercedes\n"
          ]
        }
      ]
    },
    {
      "cell_type": "code",
      "source": [
        "list1 = [1,2,3]\n",
        "list2 = [\"bmw\",\"mercedes\",\"volkswagen\"]\n",
        "\n",
        "print(list(zip(list1,list2)))"
      ],
      "metadata": {
        "colab": {
          "base_uri": "https://localhost:8080/"
        },
        "id": "dR3W0u6IGcZ-",
        "outputId": "d467ae38-60cc-40c1-9832-f5671fdbfd70"
      },
      "execution_count": 59,
      "outputs": [
        {
          "output_type": "stream",
          "name": "stdout",
          "text": [
            "[(1, 'bmw'), (2, 'mercedes'), (3, 'volkswagen')]\n"
          ]
        }
      ]
    },
    {
      "cell_type": "code",
      "source": [
        "list1 = [1,2,3]\n",
        "list2 = [\"bmw\",\"mercedes\",\"volkswagen\"]\n",
        "list3 = [\"deutsch\",\"deutsch\",\"deutsch\"]\n",
        "\n",
        "print(list(zip(list1,list2,list3)))"
      ],
      "metadata": {
        "colab": {
          "base_uri": "https://localhost:8080/"
        },
        "id": "VesZc23gHMIq",
        "outputId": "1769c973-d16a-45c2-9466-2ff312dbb5d1"
      },
      "execution_count": 60,
      "outputs": [
        {
          "output_type": "stream",
          "name": "stdout",
          "text": [
            "[(1, 'bmw', 'deutsch'), (2, 'mercedes', 'deutsch'), (3, 'volkswagen', 'deutsch')]\n"
          ]
        }
      ]
    },
    {
      "cell_type": "code",
      "source": [
        "for i in zip(list1,list2):\n",
        "  print(i)"
      ],
      "metadata": {
        "colab": {
          "base_uri": "https://localhost:8080/"
        },
        "id": "Wz4m7grvHZfQ",
        "outputId": "1bdf3515-953b-4f80-9a2b-02416bcbf7c8"
      },
      "execution_count": 61,
      "outputs": [
        {
          "output_type": "stream",
          "name": "stdout",
          "text": [
            "(1, 'bmw')\n",
            "(2, 'mercedes')\n",
            "(3, 'volkswagen')\n"
          ]
        }
      ]
    },
    {
      "cell_type": "code",
      "source": [
        "for a,b,c in zip(list1,list2,list3):\n",
        "  print(a,b,c)"
      ],
      "metadata": {
        "colab": {
          "base_uri": "https://localhost:8080/"
        },
        "id": "BqH-3ndGHhrI",
        "outputId": "af148de3-ce03-421a-c550-c5eac00afa51"
      },
      "execution_count": 62,
      "outputs": [
        {
          "output_type": "stream",
          "name": "stdout",
          "text": [
            "1 bmw deutsch\n",
            "2 mercedes deutsch\n",
            "3 volkswagen deutsch\n"
          ]
        }
      ]
    },
    {
      "cell_type": "code",
      "source": [],
      "metadata": {
        "id": "2D6buNvIHuGE"
      },
      "execution_count": null,
      "outputs": []
    }
  ]
}