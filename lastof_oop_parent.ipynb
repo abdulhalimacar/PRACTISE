{
  "nbformat": 4,
  "nbformat_minor": 0,
  "metadata": {
    "colab": {
      "provenance": []
    },
    "kernelspec": {
      "name": "python3",
      "display_name": "Python 3"
    },
    "language_info": {
      "name": "python"
    }
  },
  "cells": [
    {
      "cell_type": "code",
      "execution_count": 10,
      "metadata": {
        "id": "dockyagoNSrL"
      },
      "outputs": [],
      "source": [
        "class User:\n",
        "\n",
        "  def __init__(self,name,surname,age):\n",
        "    self.name = name\n",
        "    self.surname = surname\n",
        "    self.age = age\n",
        "\n",
        "class Moderator(User):\n",
        "\n",
        "  def __init__(self,name,surname,age,message):\n",
        "    super().__init__(name,surname,age)\n",
        "    self.message = message\n",
        "\n",
        "  def full_name(self):\n",
        "    return f\"{self.name} {self.surname}\"\n",
        "\n",
        "p1 = Moderator(\"murat\",\"acar\",22,\"The blog was great\")"
      ]
    },
    {
      "cell_type": "code",
      "source": [
        "p1.message"
      ],
      "metadata": {
        "colab": {
          "base_uri": "https://localhost:8080/",
          "height": 36
        },
        "id": "RWxE0aYKPjJZ",
        "outputId": "361cdfa8-4ed6-4d1a-ee71-4aaafaed2f05"
      },
      "execution_count": 4,
      "outputs": [
        {
          "output_type": "execute_result",
          "data": {
            "text/plain": [
              "'The blog was great'"
            ],
            "application/vnd.google.colaboratory.intrinsic+json": {
              "type": "string"
            }
          },
          "metadata": {},
          "execution_count": 4
        }
      ]
    },
    {
      "cell_type": "code",
      "source": [
        "p1.age"
      ],
      "metadata": {
        "colab": {
          "base_uri": "https://localhost:8080/"
        },
        "id": "xyUiPcDhPkoh",
        "outputId": "d81993ca-6cbb-4e09-a85f-a4422878a549"
      },
      "execution_count": 5,
      "outputs": [
        {
          "output_type": "execute_result",
          "data": {
            "text/plain": [
              "22"
            ]
          },
          "metadata": {},
          "execution_count": 5
        }
      ]
    },
    {
      "cell_type": "code",
      "source": [
        "p1.age = 23"
      ],
      "metadata": {
        "id": "z3KMktyDP7lH"
      },
      "execution_count": 6,
      "outputs": []
    },
    {
      "cell_type": "code",
      "source": [
        "p1.age"
      ],
      "metadata": {
        "colab": {
          "base_uri": "https://localhost:8080/"
        },
        "id": "UFvzNY0GP8y4",
        "outputId": "c455a0b3-90d7-4582-e140-5f97a46b6331"
      },
      "execution_count": 7,
      "outputs": [
        {
          "output_type": "execute_result",
          "data": {
            "text/plain": [
              "23"
            ]
          },
          "metadata": {},
          "execution_count": 7
        }
      ]
    },
    {
      "cell_type": "code",
      "source": [
        "p1.full_name()"
      ],
      "metadata": {
        "colab": {
          "base_uri": "https://localhost:8080/",
          "height": 36
        },
        "id": "RDqLiVeNP9fS",
        "outputId": "cd108c94-e033-42f6-8da8-3354caec3a7a"
      },
      "execution_count": 11,
      "outputs": [
        {
          "output_type": "execute_result",
          "data": {
            "text/plain": [
              "'murat acar'"
            ],
            "application/vnd.google.colaboratory.intrinsic+json": {
              "type": "string"
            }
          },
          "metadata": {},
          "execution_count": 11
        }
      ]
    },
    {
      "cell_type": "code",
      "source": [],
      "metadata": {
        "id": "T2nxsQWgQLnp"
      },
      "execution_count": null,
      "outputs": []
    }
  ]
}