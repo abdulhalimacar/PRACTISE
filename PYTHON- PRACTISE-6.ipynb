{
  "nbformat": 4,
  "nbformat_minor": 0,
  "metadata": {
    "colab": {
      "provenance": []
    },
    "kernelspec": {
      "name": "python3",
      "display_name": "Python 3"
    },
    "language_info": {
      "name": "python"
    }
  },
  "cells": [
    {
      "cell_type": "code",
      "execution_count": 1,
      "metadata": {
        "colab": {
          "base_uri": "https://localhost:8080/"
        },
        "id": "Wcl5n5DKATmM",
        "outputId": "7f968065-e76f-46c7-a490-b6a3fcdd8e41"
      },
      "outputs": [
        {
          "output_type": "stream",
          "name": "stdout",
          "text": [
            "hello world\n"
          ]
        }
      ],
      "source": [
        "def greeting():\n",
        "  print(\"hello world\")\n",
        "\n",
        "greeting()"
      ]
    },
    {
      "cell_type": "code",
      "source": [
        "for i in range(5):\n",
        "  print(\"hello world\")"
      ],
      "metadata": {
        "colab": {
          "base_uri": "https://localhost:8080/"
        },
        "id": "5nnPbVHQAnM1",
        "outputId": "d87e6d67-ba3a-4053-d166-82ee6b8e493f"
      },
      "execution_count": 2,
      "outputs": [
        {
          "output_type": "stream",
          "name": "stdout",
          "text": [
            "hello world\n",
            "hello world\n",
            "hello world\n",
            "hello world\n",
            "hello world\n"
          ]
        }
      ]
    },
    {
      "cell_type": "code",
      "source": [
        "def greeting():\n",
        "  for i in range(4):\n",
        "    print(\"hello world\")\n",
        "\n",
        "greeting()"
      ],
      "metadata": {
        "colab": {
          "base_uri": "https://localhost:8080/"
        },
        "id": "_8p7bdnwA0b4",
        "outputId": "1beeaac7-4033-4ec7-e071-b9a99dcb486f"
      },
      "execution_count": 4,
      "outputs": [
        {
          "output_type": "stream",
          "name": "stdout",
          "text": [
            "hello world\n",
            "hello world\n",
            "hello world\n",
            "hello world\n"
          ]
        }
      ]
    },
    {
      "cell_type": "code",
      "source": [
        "def sum_():\n",
        "  print(10+20)\n",
        "\n",
        "sum_()"
      ],
      "metadata": {
        "colab": {
          "base_uri": "https://localhost:8080/"
        },
        "id": "C43GaufvA7f5",
        "outputId": "a5f77eea-2a23-40e8-f61d-ffe5d32a6889"
      },
      "execution_count": 5,
      "outputs": [
        {
          "output_type": "stream",
          "name": "stdout",
          "text": [
            "30\n"
          ]
        }
      ]
    },
    {
      "cell_type": "code",
      "source": [
        "def sum2():\n",
        "  return 10+20\n",
        "\n",
        "sum2()"
      ],
      "metadata": {
        "colab": {
          "base_uri": "https://localhost:8080/"
        },
        "id": "Abbh6mIwBEsK",
        "outputId": "60f8b271-2308-4ea6-faa4-18b48ad2bc87"
      },
      "execution_count": 8,
      "outputs": [
        {
          "output_type": "execute_result",
          "data": {
            "text/plain": [
              "30"
            ]
          },
          "metadata": {},
          "execution_count": 8
        }
      ]
    },
    {
      "cell_type": "code",
      "source": [
        "def sum2():\n",
        "  return 10+20\n",
        "\n",
        "sum2() + 10"
      ],
      "metadata": {
        "colab": {
          "base_uri": "https://localhost:8080/"
        },
        "id": "o5RjjK6pBokA",
        "outputId": "6b98f43e-2f0a-4bbe-ed1b-d31fa45f5caa"
      },
      "execution_count": 9,
      "outputs": [
        {
          "output_type": "execute_result",
          "data": {
            "text/plain": [
              "40"
            ]
          },
          "metadata": {},
          "execution_count": 9
        }
      ]
    },
    {
      "cell_type": "code",
      "source": [
        "import datetime"
      ],
      "metadata": {
        "id": "w8TJKV5CBsf1"
      },
      "execution_count": 10,
      "outputs": []
    },
    {
      "cell_type": "code",
      "source": [
        "datetime.datetime.now().year"
      ],
      "metadata": {
        "colab": {
          "base_uri": "https://localhost:8080/"
        },
        "id": "5nm0CjVCCIqi",
        "outputId": "9744217a-f49a-4fa4-dffd-8ac73fd20318"
      },
      "execution_count": 12,
      "outputs": [
        {
          "output_type": "execute_result",
          "data": {
            "text/plain": [
              "2023"
            ]
          },
          "metadata": {},
          "execution_count": 12
        }
      ]
    },
    {
      "cell_type": "code",
      "source": [
        "def current():\n",
        "  return datetime.datetime.now().year\n",
        "\n",
        "def age_calculator():\n",
        "  return current()-1997\n",
        "\n",
        "age_calculator()"
      ],
      "metadata": {
        "colab": {
          "base_uri": "https://localhost:8080/"
        },
        "id": "rbPt4tzhCJ7z",
        "outputId": "952de458-e47a-4efe-d5dc-bec39d02aa87"
      },
      "execution_count": 15,
      "outputs": [
        {
          "output_type": "execute_result",
          "data": {
            "text/plain": [
              "26"
            ]
          },
          "metadata": {},
          "execution_count": 15
        }
      ]
    },
    {
      "cell_type": "code",
      "source": [
        "def hour():\n",
        "  return datetime.datetime.now().hour"
      ],
      "metadata": {
        "id": "RawGOUCdCf8q"
      },
      "execution_count": 21,
      "outputs": []
    },
    {
      "cell_type": "code",
      "source": [
        "def greeting():\n",
        "  if (hour()<12):\n",
        "    return \"good morning\"\n",
        "  else:\n",
        "    return \"hi, it is too late and sleep!\"\n",
        "\n",
        "greeting()"
      ],
      "metadata": {
        "colab": {
          "base_uri": "https://localhost:8080/",
          "height": 35
        },
        "id": "_wbxVJBcDLIY",
        "outputId": "ac319d08-f6d2-4f7b-b3d0-fe1450e701e2"
      },
      "execution_count": 23,
      "outputs": [
        {
          "output_type": "execute_result",
          "data": {
            "text/plain": [
              "'hi, it is too late and sleep!'"
            ],
            "application/vnd.google.colaboratory.intrinsic+json": {
              "type": "string"
            }
          },
          "metadata": {},
          "execution_count": 23
        }
      ]
    },
    {
      "cell_type": "code",
      "source": [
        "def sum(x,y):\n",
        "  return x+y\n",
        "\n",
        "sum(5,-3)"
      ],
      "metadata": {
        "colab": {
          "base_uri": "https://localhost:8080/"
        },
        "id": "YUD-eLpZDkjF",
        "outputId": "f1acc72b-38f2-49fc-bee8-359846ce0142"
      },
      "execution_count": 24,
      "outputs": [
        {
          "output_type": "execute_result",
          "data": {
            "text/plain": [
              "2"
            ]
          },
          "metadata": {},
          "execution_count": 24
        }
      ]
    },
    {
      "cell_type": "code",
      "source": [
        "def age(yearofbirth):\n",
        "  return current()-yearofbirth\n",
        "\n",
        "t = age(1997)\n",
        "\n",
        "print(f\"your age is {t}\")"
      ],
      "metadata": {
        "colab": {
          "base_uri": "https://localhost:8080/"
        },
        "id": "-tUEUyMKEvKa",
        "outputId": "efb6e8f1-8208-48d4-dd75-5bfa19abe357"
      },
      "execution_count": 25,
      "outputs": [
        {
          "output_type": "stream",
          "name": "stdout",
          "text": [
            "your age is 26\n"
          ]
        }
      ]
    },
    {
      "cell_type": "code",
      "source": [
        "def yearsleftforretirement(yearofbirthh,name):\n",
        "\n",
        "  age_ = age(yearofbirthh)\n",
        "\n",
        "  retirement = 65 - age_\n",
        "\n",
        "  if retirement>0:\n",
        "    print(f\"years left for retirement is {retirement}\")\n",
        "  \n",
        "  else:\n",
        "    print(f\"Congrats, dear {name} you are already retired\")\n",
        "\n",
        "\n",
        "yearsleftforretirement(1983,\"abdulhalim\")"
      ],
      "metadata": {
        "colab": {
          "base_uri": "https://localhost:8080/"
        },
        "id": "a8rwIEjrFFa9",
        "outputId": "3f3547af-788a-4040-a18c-96803f1cb0fc"
      },
      "execution_count": 30,
      "outputs": [
        {
          "output_type": "stream",
          "name": "stdout",
          "text": [
            "years left for retirement is 25\n"
          ]
        }
      ]
    }
  ]
}