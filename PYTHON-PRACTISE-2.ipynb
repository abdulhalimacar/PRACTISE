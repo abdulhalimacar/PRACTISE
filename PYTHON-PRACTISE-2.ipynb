{
  "nbformat": 4,
  "nbformat_minor": 0,
  "metadata": {
    "colab": {
      "provenance": []
    },
    "kernelspec": {
      "name": "python3",
      "display_name": "Python 3"
    },
    "language_info": {
      "name": "python"
    }
  },
  "cells": [
    {
      "cell_type": "code",
      "execution_count": 3,
      "metadata": {
        "colab": {
          "base_uri": "https://localhost:8080/"
        },
        "id": "8jiJwbZL3WZJ",
        "outputId": "073323bd-faf7-418c-eb64-c618fc0600b5"
      },
      "outputs": [
        {
          "output_type": "stream",
          "name": "stdout",
          "text": [
            "0\n",
            "1\n",
            "2\n",
            "3\n",
            "4\n",
            "5\n",
            "6\n",
            "7\n",
            "8\n",
            "9\n",
            "10\n",
            "11\n"
          ]
        }
      ],
      "source": [
        "i = -1\n",
        "\n",
        "while i < 11:\n",
        "  i+=1\n",
        "  print(i)"
      ]
    },
    {
      "cell_type": "code",
      "source": [
        "i = 0 \n",
        "\n",
        "while i < 5:\n",
        "  print(\"Hello\")\n",
        "  i+=1"
      ],
      "metadata": {
        "colab": {
          "base_uri": "https://localhost:8080/"
        },
        "id": "6op2WjEc3niy",
        "outputId": "3b6cd0f2-757c-48ca-8b01-a0864074d2c4"
      },
      "execution_count": 4,
      "outputs": [
        {
          "output_type": "stream",
          "name": "stdout",
          "text": [
            "Hello\n",
            "Hello\n",
            "Hello\n",
            "Hello\n",
            "Hello\n"
          ]
        }
      ]
    },
    {
      "cell_type": "code",
      "source": [
        "i = 0 \n",
        "\n",
        "while i < 13:\n",
        "  if i % 2 == 1:\n",
        "    print(i)\n",
        "  i+=1"
      ],
      "metadata": {
        "colab": {
          "base_uri": "https://localhost:8080/"
        },
        "id": "KoLBjMuZ4kdy",
        "outputId": "cefb5df4-021a-4c12-d8c3-20e367dcf8c8"
      },
      "execution_count": 6,
      "outputs": [
        {
          "output_type": "stream",
          "name": "stdout",
          "text": [
            "1\n",
            "3\n",
            "5\n",
            "7\n",
            "9\n",
            "11\n"
          ]
        }
      ]
    },
    {
      "cell_type": "code",
      "source": [
        "i = 0 \n",
        "\n",
        "while i < 13:\n",
        "  if i % 2 == 1:\n",
        "    print(\"odd number: \",i)\n",
        "  i+=1"
      ],
      "metadata": {
        "colab": {
          "base_uri": "https://localhost:8080/"
        },
        "id": "AVA7QHkN4pRm",
        "outputId": "c3a230c0-2a83-4e84-b877-873850ec96bc"
      },
      "execution_count": 7,
      "outputs": [
        {
          "output_type": "stream",
          "name": "stdout",
          "text": [
            "odd number:  1\n",
            "odd number:  3\n",
            "odd number:  5\n",
            "odd number:  7\n",
            "odd number:  9\n",
            "odd number:  11\n"
          ]
        }
      ]
    },
    {
      "cell_type": "code",
      "source": [
        "i = 0 \n",
        "\n",
        "while i < 13:\n",
        "  if i % 2 == 1:\n",
        "    print(\"odd number: \",i)\n",
        "  else:\n",
        "    print(\"even number: \",i)\n",
        "  i+=1"
      ],
      "metadata": {
        "colab": {
          "base_uri": "https://localhost:8080/"
        },
        "id": "7kJAylUD498c",
        "outputId": "03a6b46b-2b60-4c60-966c-3c283bf14345"
      },
      "execution_count": 8,
      "outputs": [
        {
          "output_type": "stream",
          "name": "stdout",
          "text": [
            "even number:  0\n",
            "odd number:  1\n",
            "even number:  2\n",
            "odd number:  3\n",
            "even number:  4\n",
            "odd number:  5\n",
            "even number:  6\n",
            "odd number:  7\n",
            "even number:  8\n",
            "odd number:  9\n",
            "even number:  10\n",
            "odd number:  11\n",
            "even number:  12\n"
          ]
        }
      ]
    },
    {
      "cell_type": "code",
      "source": [
        "username = \"\"\n",
        "\n",
        "while not username:\n",
        "  username = input(\"enter your user name: \")\n",
        "\n",
        "print(username)"
      ],
      "metadata": {
        "colab": {
          "base_uri": "https://localhost:8080/"
        },
        "id": "sG55QUvi5JT1",
        "outputId": "0a2512da-e4e0-4979-8bce-62b4d77f77bf"
      },
      "execution_count": 9,
      "outputs": [
        {
          "output_type": "stream",
          "name": "stdout",
          "text": [
            "enter your user name: abdulhalim\n",
            "abdulhalim\n"
          ]
        }
      ]
    },
    {
      "cell_type": "code",
      "source": [
        "username = \"\"\n",
        "\n",
        "while not username:\n",
        "  username = input(\"enter your user name: \")\n",
        "\n",
        "print(\"your username is: \",username)"
      ],
      "metadata": {
        "colab": {
          "base_uri": "https://localhost:8080/"
        },
        "id": "FU2oTpOk6NUH",
        "outputId": "4991dd12-e10d-4292-8d72-c7f475e1a5f4"
      },
      "execution_count": 12,
      "outputs": [
        {
          "output_type": "stream",
          "name": "stdout",
          "text": [
            "enter your user name: \n",
            "enter your user name: \n",
            "enter your user name: \n",
            "enter your user name: \n",
            "enter your user name: abdulhalim acar\n",
            "your username is:  abdulhalim acar\n"
          ]
        }
      ]
    },
    {
      "cell_type": "code",
      "source": [
        "numbers = [4,6,9,10,35,57,89,125,244]"
      ],
      "metadata": {
        "id": "40G9jGvx6QE2"
      },
      "execution_count": 13,
      "outputs": []
    },
    {
      "cell_type": "code",
      "source": [
        "i = 0 \n",
        "\n",
        "while (i <len(numbers)):\n",
        "  print(numbers[i])\n",
        "  i+=1 \n",
        "  "
      ],
      "metadata": {
        "colab": {
          "base_uri": "https://localhost:8080/"
        },
        "id": "KLbWDJX36mqG",
        "outputId": "63c58098-cff2-480c-9752-154f88974c59"
      },
      "execution_count": 15,
      "outputs": [
        {
          "output_type": "stream",
          "name": "stdout",
          "text": [
            "4\n",
            "6\n",
            "9\n",
            "10\n",
            "35\n",
            "57\n",
            "89\n",
            "125\n",
            "244\n"
          ]
        }
      ]
    },
    {
      "cell_type": "code",
      "source": [
        "first_num = float(input(\"enter a number: \"))\n",
        "second_num = float(input(\"enter a number: \"))\n",
        "\n",
        " \n",
        "\n",
        "while first_num < second_num:\n",
        "  if first_num % 2 == 1:\n",
        "    print(first_num)\n",
        "  first_num+=1 "
      ],
      "metadata": {
        "colab": {
          "base_uri": "https://localhost:8080/"
        },
        "id": "fojiM-Fx6tdx",
        "outputId": "1bbf595c-9ee9-4890-ae60-9da853cbc481"
      },
      "execution_count": 17,
      "outputs": [
        {
          "output_type": "stream",
          "name": "stdout",
          "text": [
            "enter a number: 1\n",
            "enter a number: 20\n",
            "1.0\n",
            "3.0\n",
            "5.0\n",
            "7.0\n",
            "9.0\n",
            "11.0\n",
            "13.0\n",
            "15.0\n",
            "17.0\n",
            "19.0\n"
          ]
        }
      ]
    },
    {
      "cell_type": "code",
      "source": [
        "i = 10\n",
        "\n",
        "while i > -1:\n",
        "  print(i)\n",
        "  i -= 1"
      ],
      "metadata": {
        "colab": {
          "base_uri": "https://localhost:8080/"
        },
        "id": "swVeKWMF7oNw",
        "outputId": "26354c99-a6f4-4574-95fb-f12aad9e418e"
      },
      "execution_count": 19,
      "outputs": [
        {
          "output_type": "stream",
          "name": "stdout",
          "text": [
            "10\n",
            "9\n",
            "8\n",
            "7\n",
            "6\n",
            "5\n",
            "4\n",
            "3\n",
            "2\n",
            "1\n",
            "0\n"
          ]
        }
      ]
    },
    {
      "cell_type": "code",
      "source": [
        "i = 0 \n",
        "numbers = []\n",
        "\n",
        "while (i<5):\n",
        "  number = int(input(\"enter a number: \"))\n",
        "  numbers.append(number)\n",
        "  i += 1 \n",
        "\n",
        "numbers.sort()\n",
        "print(numbers)"
      ],
      "metadata": {
        "colab": {
          "base_uri": "https://localhost:8080/"
        },
        "id": "odlAzfyi8iGb",
        "outputId": "fe9863a8-f4e3-4347-adea-5ce4741fdc9e"
      },
      "execution_count": 20,
      "outputs": [
        {
          "output_type": "stream",
          "name": "stdout",
          "text": [
            "enter a number: 5\n",
            "enter a number: -9\n",
            "enter a number: -4\n",
            "enter a number: 3\n",
            "enter a number: 2\n",
            "[-9, -4, 2, 3, 5]\n"
          ]
        }
      ]
    }
  ]
}