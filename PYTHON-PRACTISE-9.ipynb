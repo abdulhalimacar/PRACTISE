{
  "nbformat": 4,
  "nbformat_minor": 0,
  "metadata": {
    "colab": {
      "provenance": []
    },
    "kernelspec": {
      "name": "python3",
      "display_name": "Python 3"
    },
    "language_info": {
      "name": "python"
    }
  },
  "cells": [
    {
      "cell_type": "code",
      "execution_count": 1,
      "metadata": {
        "colab": {
          "base_uri": "https://localhost:8080/"
        },
        "id": "JxEs6jnLgrP4",
        "outputId": "bcecb12e-32a8-4f5b-973b-5fefffac6068"
      },
      "outputs": [
        {
          "output_type": "stream",
          "name": "stdout",
          "text": [
            "x: 50\n",
            "x changed to 100\n"
          ]
        }
      ],
      "source": [
        "x = 50 \n",
        "\n",
        "def test(x):\n",
        "  print(f'x: {x}')\n",
        "\n",
        "  x = 100\n",
        "  print(f'x changed to {x}')\n",
        "\n",
        "test(x)"
      ]
    },
    {
      "cell_type": "code",
      "source": [
        "x = 50 \n",
        "\n",
        "def test(x):\n",
        "  print(f'x: {x}')\n",
        "\n",
        "  x = 100\n",
        "  print(f'x changed to {x}')\n",
        "\n",
        "print(x)"
      ],
      "metadata": {
        "colab": {
          "base_uri": "https://localhost:8080/"
        },
        "id": "L9KImwEAmx42",
        "outputId": "e0c80bdd-409c-45fa-cbf2-5428c5fc183b"
      },
      "execution_count": 2,
      "outputs": [
        {
          "output_type": "stream",
          "name": "stdout",
          "text": [
            "50\n"
          ]
        }
      ]
    },
    {
      "cell_type": "code",
      "source": [
        "x = 50 \n",
        "\n",
        "def test():\n",
        "  global x \n",
        "  print(f'x: {x}')\n",
        "\n",
        "  x = 100\n",
        "  print(f'x changed to {x}')\n",
        "\n",
        "test()"
      ],
      "metadata": {
        "colab": {
          "base_uri": "https://localhost:8080/"
        },
        "id": "2JykwzVqm26B",
        "outputId": "acf4bbe8-5628-4cb1-e78f-cc22005cf2ed"
      },
      "execution_count": 11,
      "outputs": [
        {
          "output_type": "stream",
          "name": "stdout",
          "text": [
            "x: 50\n",
            "x changed to 100\n"
          ]
        }
      ]
    },
    {
      "cell_type": "code",
      "source": [
        "numbers = [1,2,3,4,5]\n",
        "squares = []\n",
        "\n",
        "for i in numbers:\n",
        "  squares.append(i**2)\n",
        "\n",
        "squares"
      ],
      "metadata": {
        "colab": {
          "base_uri": "https://localhost:8080/"
        },
        "id": "UC1_nV-XnNSU",
        "outputId": "a22fdd76-638f-4613-b7af-bf518c86b909"
      },
      "execution_count": 12,
      "outputs": [
        {
          "output_type": "execute_result",
          "data": {
            "text/plain": [
              "[1, 4, 9, 16, 25]"
            ]
          },
          "metadata": {},
          "execution_count": 12
        }
      ]
    },
    {
      "cell_type": "code",
      "source": [
        "def square(x):\n",
        "  return x ** 2 \n",
        "\n",
        "map(squares,numbers)"
      ],
      "metadata": {
        "colab": {
          "base_uri": "https://localhost:8080/"
        },
        "id": "lFQIqO1UoJpY",
        "outputId": "cc8e1f85-3bde-449c-a664-a3fa38ad0f11"
      },
      "execution_count": 13,
      "outputs": [
        {
          "output_type": "execute_result",
          "data": {
            "text/plain": [
              "<map at 0x7f6c6cc43790>"
            ]
          },
          "metadata": {},
          "execution_count": 13
        }
      ]
    },
    {
      "cell_type": "code",
      "source": [
        "def square(x):\n",
        "  return x ** 2 \n",
        "  \n",
        "list(map(square,numbers))\n"
      ],
      "metadata": {
        "colab": {
          "base_uri": "https://localhost:8080/"
        },
        "id": "98jBdJCuoprx",
        "outputId": "514eefcb-8871-4cef-c9fc-468e41d287c8"
      },
      "execution_count": 18,
      "outputs": [
        {
          "output_type": "execute_result",
          "data": {
            "text/plain": [
              "[1, 4, 9, 16, 25]"
            ]
          },
          "metadata": {},
          "execution_count": 18
        }
      ]
    },
    {
      "cell_type": "code",
      "source": [
        "list(map(lambda x: x**2,numbers))"
      ],
      "metadata": {
        "colab": {
          "base_uri": "https://localhost:8080/"
        },
        "id": "5VG4StJuoswi",
        "outputId": "45332d50-1d95-4264-e3f5-114417093807"
      },
      "execution_count": 19,
      "outputs": [
        {
          "output_type": "execute_result",
          "data": {
            "text/plain": [
              "[1, 4, 9, 16, 25]"
            ]
          },
          "metadata": {},
          "execution_count": 19
        }
      ]
    },
    {
      "cell_type": "code",
      "source": [
        "numbers2 = [\"1\",\"2\",\"3\",\"4\",\"5\"]"
      ],
      "metadata": {
        "id": "R2_Ki4JHpSci"
      },
      "execution_count": 20,
      "outputs": []
    },
    {
      "cell_type": "code",
      "source": [
        "list(map(int,numbers))"
      ],
      "metadata": {
        "colab": {
          "base_uri": "https://localhost:8080/"
        },
        "id": "pVzCAExepsh3",
        "outputId": "b745e574-4dcc-49a0-f9a4-7b1333152a1c"
      },
      "execution_count": 21,
      "outputs": [
        {
          "output_type": "execute_result",
          "data": {
            "text/plain": [
              "[1, 2, 3, 4, 5]"
            ]
          },
          "metadata": {},
          "execution_count": 21
        }
      ]
    },
    {
      "cell_type": "code",
      "source": [
        "numbers3 = [1,-2,3,-4,-5]\n",
        "\n",
        "list(map(abs,numbers3))"
      ],
      "metadata": {
        "colab": {
          "base_uri": "https://localhost:8080/"
        },
        "id": "ksepFgVdpvj2",
        "outputId": "df081adc-320d-43bf-bfc9-764a7fb74c63"
      },
      "execution_count": 22,
      "outputs": [
        {
          "output_type": "execute_result",
          "data": {
            "text/plain": [
              "[1, 2, 3, 4, 5]"
            ]
          },
          "metadata": {},
          "execution_count": 22
        }
      ]
    },
    {
      "cell_type": "code",
      "source": [
        "list(map(float,numbers3))"
      ],
      "metadata": {
        "colab": {
          "base_uri": "https://localhost:8080/"
        },
        "id": "I3oQ5R2Ep_EU",
        "outputId": "238c48de-c3e0-4e57-d174-fa99ba6df1d0"
      },
      "execution_count": 23,
      "outputs": [
        {
          "output_type": "execute_result",
          "data": {
            "text/plain": [
              "[1.0, -2.0, 3.0, -4.0, -5.0]"
            ]
          },
          "metadata": {},
          "execution_count": 23
        }
      ]
    },
    {
      "cell_type": "code",
      "source": [
        "names = [\"alex\",\"david\",\"joe biden\",\"donald trump\"]\n",
        "\n",
        "list(map(len,names))"
      ],
      "metadata": {
        "colab": {
          "base_uri": "https://localhost:8080/"
        },
        "id": "jeiXo-esqFKB",
        "outputId": "a66ff0a4-7851-4571-d98e-f1ed74b7ef4f"
      },
      "execution_count": 26,
      "outputs": [
        {
          "output_type": "execute_result",
          "data": {
            "text/plain": [
              "[4, 5, 9, 12]"
            ]
          },
          "metadata": {},
          "execution_count": 26
        }
      ]
    },
    {
      "cell_type": "code",
      "source": [
        "list(map(str.capitalize,names))"
      ],
      "metadata": {
        "colab": {
          "base_uri": "https://localhost:8080/"
        },
        "id": "X1uJSAmvqPbD",
        "outputId": "cbca04fc-379c-4fa0-8a48-615e4f5a2ea2"
      },
      "execution_count": 27,
      "outputs": [
        {
          "output_type": "execute_result",
          "data": {
            "text/plain": [
              "['Alex', 'David', 'Joe biden', 'Donald trump']"
            ]
          },
          "metadata": {},
          "execution_count": 27
        }
      ]
    },
    {
      "cell_type": "code",
      "source": [
        "names2 = [\"alEx\",\"daviD\",\"JOe biden\",\"DOnald TRump\"]"
      ],
      "metadata": {
        "id": "DhWhc_kWqfo4"
      },
      "execution_count": 29,
      "outputs": []
    },
    {
      "cell_type": "code",
      "source": [
        "list(map(str.lower,names2))"
      ],
      "metadata": {
        "colab": {
          "base_uri": "https://localhost:8080/"
        },
        "id": "aPXL8Q2zqVpm",
        "outputId": "527fc79a-ed71-48cd-98ad-9b110d0ce7b6"
      },
      "execution_count": 30,
      "outputs": [
        {
          "output_type": "execute_result",
          "data": {
            "text/plain": [
              "['alex', 'david', 'joe biden', 'donald trump']"
            ]
          },
          "metadata": {},
          "execution_count": 30
        }
      ]
    },
    {
      "cell_type": "code",
      "source": [
        "users = [{\"name\":\"ali\", \"surname\":\"yılmaz\"}, {\"name\":\"veli\",\"surname\":\"deli\"}]"
      ],
      "metadata": {
        "id": "X2DfzQFEqemX"
      },
      "execution_count": 31,
      "outputs": []
    },
    {
      "cell_type": "code",
      "source": [
        "list(map(lambda x: x[\"name\"],users))"
      ],
      "metadata": {
        "colab": {
          "base_uri": "https://localhost:8080/"
        },
        "id": "fMDAYndEq_ER",
        "outputId": "cd3718f5-eddc-49b0-e489-c7a94980cbac"
      },
      "execution_count": 33,
      "outputs": [
        {
          "output_type": "execute_result",
          "data": {
            "text/plain": [
              "['ali', 'veli']"
            ]
          },
          "metadata": {},
          "execution_count": 33
        }
      ]
    },
    {
      "cell_type": "code",
      "source": [],
      "metadata": {
        "id": "KgM3XYLtrFOX"
      },
      "execution_count": null,
      "outputs": []
    }
  ]
}