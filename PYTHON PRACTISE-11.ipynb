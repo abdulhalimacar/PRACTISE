{
  "nbformat": 4,
  "nbformat_minor": 0,
  "metadata": {
    "colab": {
      "provenance": []
    },
    "kernelspec": {
      "name": "python3",
      "display_name": "Python 3"
    },
    "language_info": {
      "name": "python"
    }
  },
  "cells": [
    {
      "cell_type": "code",
      "execution_count": 1,
      "metadata": {
        "id": "zhmt3VFC6cGd"
      },
      "outputs": [],
      "source": [
        "x = [55,1,10,20,-10,5]"
      ]
    },
    {
      "cell_type": "code",
      "source": [
        "x.sort()"
      ],
      "metadata": {
        "id": "BM6om31Q6gZB"
      },
      "execution_count": 5,
      "outputs": []
    },
    {
      "cell_type": "code",
      "source": [
        "x"
      ],
      "metadata": {
        "colab": {
          "base_uri": "https://localhost:8080/"
        },
        "id": "XthdwwaF6g2d",
        "outputId": "c36a1ab7-69d2-4906-b448-828095dd352e"
      },
      "execution_count": 6,
      "outputs": [
        {
          "output_type": "execute_result",
          "data": {
            "text/plain": [
              "[-10, 1, 5, 10, 20, 55]"
            ]
          },
          "metadata": {},
          "execution_count": 6
        }
      ]
    },
    {
      "cell_type": "code",
      "source": [
        "x2 = [55,1,10,20,-10,5]"
      ],
      "metadata": {
        "id": "mRDUlF016rq_"
      },
      "execution_count": 7,
      "outputs": []
    },
    {
      "cell_type": "code",
      "source": [
        "sorted(x2)"
      ],
      "metadata": {
        "colab": {
          "base_uri": "https://localhost:8080/"
        },
        "id": "m0gylF_Q66nH",
        "outputId": "61f35396-fed6-404d-c59c-91542807b811"
      },
      "execution_count": 8,
      "outputs": [
        {
          "output_type": "execute_result",
          "data": {
            "text/plain": [
              "[-10, 1, 5, 10, 20, 55]"
            ]
          },
          "metadata": {},
          "execution_count": 8
        }
      ]
    },
    {
      "cell_type": "code",
      "source": [
        "x2"
      ],
      "metadata": {
        "colab": {
          "base_uri": "https://localhost:8080/"
        },
        "id": "-EKmYpWv67id",
        "outputId": "c481491c-dbf1-4f54-dcd9-d6bd185a3806"
      },
      "execution_count": 9,
      "outputs": [
        {
          "output_type": "execute_result",
          "data": {
            "text/plain": [
              "[55, 1, 10, 20, -10, 5]"
            ]
          },
          "metadata": {},
          "execution_count": 9
        }
      ]
    },
    {
      "cell_type": "code",
      "source": [
        "#sorted orjinalini değiştirmez ama x.sort() orjinali değiştirir"
      ],
      "metadata": {
        "id": "-NUyAQ2o6882"
      },
      "execution_count": 10,
      "outputs": []
    },
    {
      "cell_type": "code",
      "source": [
        "sorted(x2,reverse=True)"
      ],
      "metadata": {
        "colab": {
          "base_uri": "https://localhost:8080/"
        },
        "id": "ik-77DM77Bxs",
        "outputId": "9f8ac23e-49bd-4565-8b58-8c21b6869108"
      },
      "execution_count": 11,
      "outputs": [
        {
          "output_type": "execute_result",
          "data": {
            "text/plain": [
              "[55, 20, 10, 5, 1, -10]"
            ]
          },
          "metadata": {},
          "execution_count": 11
        }
      ]
    },
    {
      "cell_type": "code",
      "source": [
        "sorted(x2,reverse=False)"
      ],
      "metadata": {
        "colab": {
          "base_uri": "https://localhost:8080/"
        },
        "id": "bshmPMDF7W4j",
        "outputId": "8a1fb6f5-6813-4052-a60e-2e0f6983e31f"
      },
      "execution_count": 12,
      "outputs": [
        {
          "output_type": "execute_result",
          "data": {
            "text/plain": [
              "[-10, 1, 5, 10, 20, 55]"
            ]
          },
          "metadata": {},
          "execution_count": 12
        }
      ]
    },
    {
      "cell_type": "code",
      "source": [
        "users = [\n",
        "    {\"username\":\"sadikturan\", \"tweets\":[\"tweet 1\",\"tweet 2\"],\"email\":\"info@gmail.com\"},\n",
        "    {\"username\":\"cinarturan\", \"tweets\":[]},\n",
        "    {\"username\":\"senaturan\", \"tweets\":[\"tweet 1\"],\"name\":\"\",\"phone\":\"434312134\"}\n",
        "]"
      ],
      "metadata": {
        "id": "0TgHo3Tt7ZLu"
      },
      "execution_count": 13,
      "outputs": []
    },
    {
      "cell_type": "code",
      "source": [
        "sorted(users, key=len)"
      ],
      "metadata": {
        "colab": {
          "base_uri": "https://localhost:8080/"
        },
        "id": "Znv4fAcY7o_I",
        "outputId": "247d1b89-2f39-42b4-8b13-19003d613e18"
      },
      "execution_count": 14,
      "outputs": [
        {
          "output_type": "execute_result",
          "data": {
            "text/plain": [
              "[{'username': 'cinarturan', 'tweets': []},\n",
              " {'username': 'sadikturan',\n",
              "  'tweets': ['tweet 1', 'tweet 2'],\n",
              "  'email': 'info@gmail.com'},\n",
              " {'username': 'senaturan',\n",
              "  'tweets': ['tweet 1'],\n",
              "  'name': '',\n",
              "  'phone': '434312134'}]"
            ]
          },
          "metadata": {},
          "execution_count": 14
        }
      ]
    },
    {
      "cell_type": "code",
      "source": [
        "sorted(users, key=lambda x: x[\"username\"])\n",
        "#adın uzunluğuna göre çalışır "
      ],
      "metadata": {
        "colab": {
          "base_uri": "https://localhost:8080/"
        },
        "id": "lw_mlFBP79LH",
        "outputId": "7b436165-7f99-40e9-c27a-f1d8ab1868c2"
      },
      "execution_count": 16,
      "outputs": [
        {
          "output_type": "execute_result",
          "data": {
            "text/plain": [
              "[{'username': 'cinarturan', 'tweets': []},\n",
              " {'username': 'sadikturan',\n",
              "  'tweets': ['tweet 1', 'tweet 2'],\n",
              "  'email': 'info@gmail.com'},\n",
              " {'username': 'senaturan',\n",
              "  'tweets': ['tweet 1'],\n",
              "  'name': '',\n",
              "  'phone': '434312134'}]"
            ]
          },
          "metadata": {},
          "execution_count": 16
        }
      ]
    },
    {
      "cell_type": "code",
      "source": [
        "sorted(users, key=lambda x: len(x[\"tweets\"]))"
      ],
      "metadata": {
        "colab": {
          "base_uri": "https://localhost:8080/"
        },
        "id": "8qxRKNaf8VMl",
        "outputId": "714307a8-4d49-487f-e4ac-83e8227ee795"
      },
      "execution_count": 17,
      "outputs": [
        {
          "output_type": "execute_result",
          "data": {
            "text/plain": [
              "[{'username': 'cinarturan', 'tweets': []},\n",
              " {'username': 'senaturan',\n",
              "  'tweets': ['tweet 1'],\n",
              "  'name': '',\n",
              "  'phone': '434312134'},\n",
              " {'username': 'sadikturan',\n",
              "  'tweets': ['tweet 1', 'tweet 2'],\n",
              "  'email': 'info@gmail.com'}]"
            ]
          },
          "metadata": {},
          "execution_count": 17
        }
      ]
    },
    {
      "cell_type": "code",
      "source": [
        "kurslar = [\n",
        "    {\"title\":\"python kursu\",\"students\":25000},\n",
        "    {\"title\":\"web geliştirme kursu\",\"students\":35000},\n",
        "    {\"title\":\"javascript kursu\",\"students\":5000}\n",
        "]"
      ],
      "metadata": {
        "id": "RTiAQmCL8rYs"
      },
      "execution_count": 18,
      "outputs": []
    },
    {
      "cell_type": "code",
      "source": [
        "sorted(kurslar, key=lambda x: x[\"students\"])"
      ],
      "metadata": {
        "colab": {
          "base_uri": "https://localhost:8080/"
        },
        "id": "xzTMUi8D8xSw",
        "outputId": "8f4e43fc-2d10-45b7-f98a-0f9189de6d51"
      },
      "execution_count": 20,
      "outputs": [
        {
          "output_type": "execute_result",
          "data": {
            "text/plain": [
              "[{'title': 'javascript kursu', 'students': 5000},\n",
              " {'title': 'python kursu', 'students': 25000},\n",
              " {'title': 'web geliştirme kursu', 'students': 35000}]"
            ]
          },
          "metadata": {},
          "execution_count": 20
        }
      ]
    },
    {
      "cell_type": "code",
      "source": [
        "sorted(kurslar, key=lambda x: x[\"students\"], reverse=True)"
      ],
      "metadata": {
        "colab": {
          "base_uri": "https://localhost:8080/"
        },
        "id": "Sidyy5iY856w",
        "outputId": "0c227f1a-3328-4239-e786-da9e81d1f8d1"
      },
      "execution_count": 22,
      "outputs": [
        {
          "output_type": "execute_result",
          "data": {
            "text/plain": [
              "[{'title': 'web geliştirme kursu', 'students': 35000},\n",
              " {'title': 'python kursu', 'students': 25000},\n",
              " {'title': 'javascript kursu', 'students': 5000}]"
            ]
          },
          "metadata": {},
          "execution_count": 22
        }
      ]
    },
    {
      "cell_type": "code",
      "source": [
        "sayilar = [1,5,7,45,25,89]\n",
        "harfler = ['a','v','h','s']\n",
        "isimler = ['ahmet','ismail','ada','sena','sadık']"
      ],
      "metadata": {
        "id": "NoEjdrJc9Blk"
      },
      "execution_count": 23,
      "outputs": []
    },
    {
      "cell_type": "code",
      "source": [
        "min(sayilar)"
      ],
      "metadata": {
        "colab": {
          "base_uri": "https://localhost:8080/"
        },
        "id": "RrAHXE9d9Jrf",
        "outputId": "2995a0f1-7ed4-493b-dafd-3f714215131b"
      },
      "execution_count": 27,
      "outputs": [
        {
          "output_type": "execute_result",
          "data": {
            "text/plain": [
              "1"
            ]
          },
          "metadata": {},
          "execution_count": 27
        }
      ]
    },
    {
      "cell_type": "code",
      "source": [
        "max(sayilar)"
      ],
      "metadata": {
        "colab": {
          "base_uri": "https://localhost:8080/"
        },
        "id": "cFgbr16-9LNw",
        "outputId": "00e44856-6685-483a-fe05-100bcea267c5"
      },
      "execution_count": 28,
      "outputs": [
        {
          "output_type": "execute_result",
          "data": {
            "text/plain": [
              "89"
            ]
          },
          "metadata": {},
          "execution_count": 28
        }
      ]
    },
    {
      "cell_type": "code",
      "source": [
        "min(harfler)"
      ],
      "metadata": {
        "colab": {
          "base_uri": "https://localhost:8080/",
          "height": 36
        },
        "id": "UawCwjw49Rdi",
        "outputId": "80ab1cfd-b43b-480e-fcc9-61b90a4f922a"
      },
      "execution_count": 29,
      "outputs": [
        {
          "output_type": "execute_result",
          "data": {
            "text/plain": [
              "'a'"
            ],
            "application/vnd.google.colaboratory.intrinsic+json": {
              "type": "string"
            }
          },
          "metadata": {},
          "execution_count": 29
        }
      ]
    },
    {
      "cell_type": "code",
      "source": [
        "max(harfler)"
      ],
      "metadata": {
        "colab": {
          "base_uri": "https://localhost:8080/",
          "height": 36
        },
        "id": "LKKRTjun9US4",
        "outputId": "2fade687-d586-470a-a722-f1d0c919502c"
      },
      "execution_count": 30,
      "outputs": [
        {
          "output_type": "execute_result",
          "data": {
            "text/plain": [
              "'v'"
            ],
            "application/vnd.google.colaboratory.intrinsic+json": {
              "type": "string"
            }
          },
          "metadata": {},
          "execution_count": 30
        }
      ]
    },
    {
      "cell_type": "code",
      "source": [
        "min(isimler)"
      ],
      "metadata": {
        "colab": {
          "base_uri": "https://localhost:8080/",
          "height": 36
        },
        "id": "ZyeQqLRv9VdA",
        "outputId": "6f329701-c25c-4f62-b252-80d93068ef84"
      },
      "execution_count": 31,
      "outputs": [
        {
          "output_type": "execute_result",
          "data": {
            "text/plain": [
              "'ada'"
            ],
            "application/vnd.google.colaboratory.intrinsic+json": {
              "type": "string"
            }
          },
          "metadata": {},
          "execution_count": 31
        }
      ]
    },
    {
      "cell_type": "code",
      "source": [
        "max(isimler)"
      ],
      "metadata": {
        "colab": {
          "base_uri": "https://localhost:8080/",
          "height": 36
        },
        "id": "KXBgYi2k9WwF",
        "outputId": "e29faee9-76de-485f-a801-458cdf2322a9"
      },
      "execution_count": 32,
      "outputs": [
        {
          "output_type": "execute_result",
          "data": {
            "text/plain": [
              "'sena'"
            ],
            "application/vnd.google.colaboratory.intrinsic+json": {
              "type": "string"
            }
          },
          "metadata": {},
          "execution_count": 32
        }
      ]
    },
    {
      "cell_type": "code",
      "source": [
        "[i for i in isimler]"
      ],
      "metadata": {
        "colab": {
          "base_uri": "https://localhost:8080/"
        },
        "id": "_bpl3Xsv9X32",
        "outputId": "3fa538c8-c8b7-45d0-cfaa-5e3fc1561b52"
      },
      "execution_count": 33,
      "outputs": [
        {
          "output_type": "execute_result",
          "data": {
            "text/plain": [
              "['ahmet', 'ismail', 'ada', 'sena', 'sadık']"
            ]
          },
          "metadata": {},
          "execution_count": 33
        }
      ]
    },
    {
      "cell_type": "code",
      "source": [
        "[len(i) for i in isimler]"
      ],
      "metadata": {
        "colab": {
          "base_uri": "https://localhost:8080/"
        },
        "id": "r6K8UihU9eyS",
        "outputId": "f7911367-3272-423e-81a7-9fa21455a0f1"
      },
      "execution_count": 34,
      "outputs": [
        {
          "output_type": "execute_result",
          "data": {
            "text/plain": [
              "[5, 6, 3, 4, 5]"
            ]
          },
          "metadata": {},
          "execution_count": 34
        }
      ]
    },
    {
      "cell_type": "code",
      "source": [
        "min([len(i) for i in isimler])"
      ],
      "metadata": {
        "colab": {
          "base_uri": "https://localhost:8080/"
        },
        "id": "l2az6_C89hWa",
        "outputId": "82487071-c0a4-4c08-e4f4-ec228b65add3"
      },
      "execution_count": 35,
      "outputs": [
        {
          "output_type": "execute_result",
          "data": {
            "text/plain": [
              "3"
            ]
          },
          "metadata": {},
          "execution_count": 35
        }
      ]
    },
    {
      "cell_type": "code",
      "source": [
        "max([len(i) for i in isimler])"
      ],
      "metadata": {
        "colab": {
          "base_uri": "https://localhost:8080/"
        },
        "id": "sizzqnzK9l6F",
        "outputId": "a0ca23db-8779-4241-a991-c4c5a05cb7cb"
      },
      "execution_count": 36,
      "outputs": [
        {
          "output_type": "execute_result",
          "data": {
            "text/plain": [
              "6"
            ]
          },
          "metadata": {},
          "execution_count": 36
        }
      ]
    },
    {
      "cell_type": "code",
      "source": [
        "max(isimler, key= lambda x: len(x))"
      ],
      "metadata": {
        "colab": {
          "base_uri": "https://localhost:8080/",
          "height": 36
        },
        "id": "yLGO-1q39oVh",
        "outputId": "0edcb7ff-2bfa-41da-8edc-212d642a5a88"
      },
      "execution_count": 37,
      "outputs": [
        {
          "output_type": "execute_result",
          "data": {
            "text/plain": [
              "'ismail'"
            ],
            "application/vnd.google.colaboratory.intrinsic+json": {
              "type": "string"
            }
          },
          "metadata": {},
          "execution_count": 37
        }
      ]
    },
    {
      "cell_type": "code",
      "source": [
        "urunler = [\n",
        "    {\"title\":\"iphone x\",\"price\":5000},\n",
        "    {\"title\":\"iphone xr\",\"price\":6000},\n",
        "    {\"title\":\"iphone 11\",\"price\":7000}\n",
        "]"
      ],
      "metadata": {
        "id": "0We1FNbr9wAy"
      },
      "execution_count": 38,
      "outputs": []
    },
    {
      "cell_type": "code",
      "source": [
        "min(urunler, key=lambda x: x[\"price\"])"
      ],
      "metadata": {
        "colab": {
          "base_uri": "https://localhost:8080/"
        },
        "id": "BSdaO_1v91C2",
        "outputId": "9a81d7f2-f72a-41e9-8d2b-e3c606c49256"
      },
      "execution_count": 40,
      "outputs": [
        {
          "output_type": "execute_result",
          "data": {
            "text/plain": [
              "{'title': 'iphone x', 'price': 5000}"
            ]
          },
          "metadata": {},
          "execution_count": 40
        }
      ]
    },
    {
      "cell_type": "code",
      "source": [
        "max(urunler, key=lambda x: x[\"price\"])"
      ],
      "metadata": {
        "colab": {
          "base_uri": "https://localhost:8080/"
        },
        "id": "JrqQ9w1U97b6",
        "outputId": "5f79cafc-a1c6-40aa-87b6-ac6e2ccba650"
      },
      "execution_count": 41,
      "outputs": [
        {
          "output_type": "execute_result",
          "data": {
            "text/plain": [
              "{'title': 'iphone 11', 'price': 7000}"
            ]
          },
          "metadata": {},
          "execution_count": 41
        }
      ]
    },
    {
      "cell_type": "code",
      "source": [
        "max(urunler, key=lambda x: x[\"price\"])[\"title\"]"
      ],
      "metadata": {
        "colab": {
          "base_uri": "https://localhost:8080/",
          "height": 36
        },
        "id": "HrSOaYJU9_g4",
        "outputId": "f9bb6dc2-029f-4d82-baa8-e8f12cc48529"
      },
      "execution_count": 42,
      "outputs": [
        {
          "output_type": "execute_result",
          "data": {
            "text/plain": [
              "'iphone 11'"
            ],
            "application/vnd.google.colaboratory.intrinsic+json": {
              "type": "string"
            }
          },
          "metadata": {},
          "execution_count": 42
        }
      ]
    },
    {
      "cell_type": "code",
      "source": [
        "max = 0 \n",
        "\n",
        "for i in urunler:\n",
        "  if i[\"price\"]>max:\n",
        "    max = i[\"price\"]\n",
        "\n",
        "print(max)"
      ],
      "metadata": {
        "colab": {
          "base_uri": "https://localhost:8080/"
        },
        "id": "UHJWDs8Z-D6w",
        "outputId": "f02a82e0-3aa0-4933-8103-6bca4742905d"
      },
      "execution_count": 43,
      "outputs": [
        {
          "output_type": "stream",
          "name": "stdout",
          "text": [
            "7000\n"
          ]
        }
      ]
    },
    {
      "cell_type": "code",
      "source": [
        "sayilar = [34,2,5,7,98]"
      ],
      "metadata": {
        "id": "hmI8adlv-k5L"
      },
      "execution_count": 44,
      "outputs": []
    },
    {
      "cell_type": "code",
      "source": [
        "sum(sayilar)"
      ],
      "metadata": {
        "colab": {
          "base_uri": "https://localhost:8080/"
        },
        "id": "PxxGXopi-yvA",
        "outputId": "10979da4-ccd8-43b0-ee5c-fc359a6d6374"
      },
      "execution_count": 45,
      "outputs": [
        {
          "output_type": "execute_result",
          "data": {
            "text/plain": [
              "146"
            ]
          },
          "metadata": {},
          "execution_count": 45
        }
      ]
    },
    {
      "cell_type": "code",
      "source": [
        "sum(sayilar,100)"
      ],
      "metadata": {
        "colab": {
          "base_uri": "https://localhost:8080/"
        },
        "id": "JWM99WYc-zq6",
        "outputId": "4c30f01d-74cf-4c4b-a2a1-c6d6644a4c81"
      },
      "execution_count": 46,
      "outputs": [
        {
          "output_type": "execute_result",
          "data": {
            "text/plain": [
              "246"
            ]
          },
          "metadata": {},
          "execution_count": 46
        }
      ]
    },
    {
      "cell_type": "code",
      "source": [
        "urunler = [\n",
        "    {\"title\":\"iphone x\", \"price\": 5000},\n",
        "    {\"title\":\"iphone xr\", \"price\": 6000},\n",
        "    {\"title\":\"iphone 11\", \"price\": 7000},\n",
        "    {\"title\":\"iphone 11 Pro\", \"price\": 0},\n",
        "]"
      ],
      "metadata": {
        "id": "YEXcools-5Hr"
      },
      "execution_count": 47,
      "outputs": []
    },
    {
      "cell_type": "code",
      "source": [
        "t = []\n",
        "\n",
        "for i in urunler:\n",
        "  k = i[\"price\"]\n",
        "  t.append(k)\n",
        "\n",
        "sum(t)"
      ],
      "metadata": {
        "colab": {
          "base_uri": "https://localhost:8080/"
        },
        "id": "3S8tzwW3-8TC",
        "outputId": "1e09217f-e6aa-4c9b-a2d9-a07912b4df0a"
      },
      "execution_count": 48,
      "outputs": [
        {
          "output_type": "execute_result",
          "data": {
            "text/plain": [
              "18000"
            ]
          },
          "metadata": {},
          "execution_count": 48
        }
      ]
    },
    {
      "cell_type": "code",
      "source": [
        "[i[\"price\"] for i in urunler]"
      ],
      "metadata": {
        "colab": {
          "base_uri": "https://localhost:8080/"
        },
        "id": "OAjpNwlm_LG_",
        "outputId": "6200f9ce-6be9-41d5-f60c-25b65a1af75c"
      },
      "execution_count": 49,
      "outputs": [
        {
          "output_type": "execute_result",
          "data": {
            "text/plain": [
              "[5000, 6000, 7000, 0]"
            ]
          },
          "metadata": {},
          "execution_count": 49
        }
      ]
    },
    {
      "cell_type": "code",
      "source": [
        "sum([i[\"price\"] for i in urunler])"
      ],
      "metadata": {
        "colab": {
          "base_uri": "https://localhost:8080/"
        },
        "id": "yKVh5mIi_TB5",
        "outputId": "cd5a4c7a-9d1a-4579-d528-e7ae3e53672a"
      },
      "execution_count": 51,
      "outputs": [
        {
          "output_type": "execute_result",
          "data": {
            "text/plain": [
              "18000"
            ]
          },
          "metadata": {},
          "execution_count": 51
        }
      ]
    },
    {
      "cell_type": "code",
      "source": [
        "sum([i[\"price\"] for i in urunler])/len(urunler)"
      ],
      "metadata": {
        "colab": {
          "base_uri": "https://localhost:8080/"
        },
        "id": "jUTbDENV_U5S",
        "outputId": "2001c756-f50d-4626-f43e-00e2c7552a39"
      },
      "execution_count": 53,
      "outputs": [
        {
          "output_type": "execute_result",
          "data": {
            "text/plain": [
              "4500.0"
            ]
          },
          "metadata": {},
          "execution_count": 53
        }
      ]
    },
    {
      "cell_type": "code",
      "source": [
        "[i for i in urunler if i[\"price\"]>0]"
      ],
      "metadata": {
        "colab": {
          "base_uri": "https://localhost:8080/"
        },
        "id": "Im3p3M6P_dCs",
        "outputId": "c2e8e5fb-59c3-4347-da3b-35105a2885be"
      },
      "execution_count": 54,
      "outputs": [
        {
          "output_type": "execute_result",
          "data": {
            "text/plain": [
              "[{'title': 'iphone x', 'price': 5000},\n",
              " {'title': 'iphone xr', 'price': 6000},\n",
              " {'title': 'iphone 11', 'price': 7000}]"
            ]
          },
          "metadata": {},
          "execution_count": 54
        }
      ]
    },
    {
      "cell_type": "code",
      "source": [
        "len([i for i in urunler if i[\"price\"]>0])"
      ],
      "metadata": {
        "colab": {
          "base_uri": "https://localhost:8080/"
        },
        "id": "PU8gvbad_180",
        "outputId": "87a569c2-f19e-4777-c2f1-a8221501756d"
      },
      "execution_count": 55,
      "outputs": [
        {
          "output_type": "execute_result",
          "data": {
            "text/plain": [
              "3"
            ]
          },
          "metadata": {},
          "execution_count": 55
        }
      ]
    },
    {
      "cell_type": "code",
      "source": [
        "sum([i[\"price\"] for i in urunler])/len([i for i in urunler if i[\"price\"]>0])"
      ],
      "metadata": {
        "colab": {
          "base_uri": "https://localhost:8080/"
        },
        "id": "kJovbyav_4Zd",
        "outputId": "37a67dd6-3700-463e-87be-767d1413bfe7"
      },
      "execution_count": 56,
      "outputs": [
        {
          "output_type": "execute_result",
          "data": {
            "text/plain": [
              "6000.0"
            ]
          },
          "metadata": {},
          "execution_count": 56
        }
      ]
    },
    {
      "cell_type": "code",
      "source": [
        "round(10.2)"
      ],
      "metadata": {
        "colab": {
          "base_uri": "https://localhost:8080/"
        },
        "id": "v57h3wkd_7c1",
        "outputId": "9f6c2684-30ba-4ff9-d3dc-b2c4e0f43dde"
      },
      "execution_count": 57,
      "outputs": [
        {
          "output_type": "execute_result",
          "data": {
            "text/plain": [
              "10"
            ]
          },
          "metadata": {},
          "execution_count": 57
        }
      ]
    },
    {
      "cell_type": "code",
      "source": [
        "round(10.5)"
      ],
      "metadata": {
        "colab": {
          "base_uri": "https://localhost:8080/"
        },
        "id": "0SsMgQlYAJqy",
        "outputId": "4e87e6e9-e23f-489a-b16c-6dd7c779b75a"
      },
      "execution_count": 58,
      "outputs": [
        {
          "output_type": "execute_result",
          "data": {
            "text/plain": [
              "10"
            ]
          },
          "metadata": {},
          "execution_count": 58
        }
      ]
    },
    {
      "cell_type": "code",
      "source": [
        "round(10.6)"
      ],
      "metadata": {
        "colab": {
          "base_uri": "https://localhost:8080/"
        },
        "id": "DJ81sF6sAK97",
        "outputId": "ad9aecf9-c8ab-4e94-b413-1ade3c12a8c5"
      },
      "execution_count": 59,
      "outputs": [
        {
          "output_type": "execute_result",
          "data": {
            "text/plain": [
              "11"
            ]
          },
          "metadata": {},
          "execution_count": 59
        }
      ]
    },
    {
      "cell_type": "code",
      "source": [
        "round(1.49)"
      ],
      "metadata": {
        "colab": {
          "base_uri": "https://localhost:8080/"
        },
        "id": "db5ajjFiALut",
        "outputId": "7c8eed78-fc41-4bba-d7f7-0b669ab0f6e5"
      },
      "execution_count": 60,
      "outputs": [
        {
          "output_type": "execute_result",
          "data": {
            "text/plain": [
              "1"
            ]
          },
          "metadata": {},
          "execution_count": 60
        }
      ]
    },
    {
      "cell_type": "code",
      "source": [
        "round(1.49442242344,2)"
      ],
      "metadata": {
        "colab": {
          "base_uri": "https://localhost:8080/"
        },
        "id": "8J_QoXrnANGV",
        "outputId": "2452f72e-dce6-4e36-b7aa-2fbd06450894"
      },
      "execution_count": 64,
      "outputs": [
        {
          "output_type": "execute_result",
          "data": {
            "text/plain": [
              "1.49"
            ]
          },
          "metadata": {},
          "execution_count": 64
        }
      ]
    },
    {
      "cell_type": "code",
      "source": [
        "round(1.49542242344,2)"
      ],
      "metadata": {
        "colab": {
          "base_uri": "https://localhost:8080/"
        },
        "id": "day75s2mAQYp",
        "outputId": "95aa402c-d475-412a-9f7a-392b757b5b1a"
      },
      "execution_count": 65,
      "outputs": [
        {
          "output_type": "execute_result",
          "data": {
            "text/plain": [
              "1.5"
            ]
          },
          "metadata": {},
          "execution_count": 65
        }
      ]
    },
    {
      "cell_type": "code",
      "source": [
        "round(1.49542242344,4)"
      ],
      "metadata": {
        "colab": {
          "base_uri": "https://localhost:8080/"
        },
        "id": "mdK4f0LWAfwb",
        "outputId": "59b325f2-15fd-4b9b-81f5-510655edcfd9"
      },
      "execution_count": 66,
      "outputs": [
        {
          "output_type": "execute_result",
          "data": {
            "text/plain": [
              "1.4954"
            ]
          },
          "metadata": {},
          "execution_count": 66
        }
      ]
    },
    {
      "cell_type": "code",
      "source": [
        "abs(-5)"
      ],
      "metadata": {
        "colab": {
          "base_uri": "https://localhost:8080/"
        },
        "id": "wcYVzRlCAhNJ",
        "outputId": "888e973e-bee9-4d8b-8ae0-e4989d672242"
      },
      "execution_count": 67,
      "outputs": [
        {
          "output_type": "execute_result",
          "data": {
            "text/plain": [
              "5"
            ]
          },
          "metadata": {},
          "execution_count": 67
        }
      ]
    },
    {
      "cell_type": "code",
      "source": [],
      "metadata": {
        "id": "IVLDE6ecAou_"
      },
      "execution_count": null,
      "outputs": []
    }
  ]
}