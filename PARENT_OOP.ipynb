{
  "nbformat": 4,
  "nbformat_minor": 0,
  "metadata": {
    "colab": {
      "provenance": []
    },
    "kernelspec": {
      "name": "python3",
      "display_name": "Python 3"
    },
    "language_info": {
      "name": "python"
    }
  },
  "cells": [
    {
      "cell_type": "code",
      "source": [
        "class Question:\n",
        "    def __init__(self, question, choices, answer):\n",
        "        self.question = question\n",
        "        self.choices = choices\n",
        "        self.answer = answer\n",
        "\n",
        "    def check(self, user_answer):\n",
        "        if user_answer not in self.choices:\n",
        "            raise ValueError(\"Given answer not in list of choices\")\n",
        "        return self.answer == user_answer\n",
        "\n",
        "\n",
        "class Display(Question):\n",
        "    def show(self):\n",
        "        print(\"Question: \" + self.question)\n",
        "        print(\"Choices: \",\" , \".join(self.choices))\n",
        "\n",
        "\n",
        "q5 = Question(\"Best programming language\", [\"Python\", \"JavaScript\", \"Java\", \"C\", \"C++\"], \"Python\")\n",
        "display = Display(\"Best programming language\", [\"Python\", \"JavaScript\", \"Java\", \"C\", \"C++\"], \"Python\")\n",
        "display.show()\n"
      ],
      "metadata": {
        "colab": {
          "base_uri": "https://localhost:8080/"
        },
        "id": "sXgImjc6pU2M",
        "outputId": "3955adeb-43c9-41f1-e73e-30f26fabb7c4"
      },
      "execution_count": 36,
      "outputs": [
        {
          "output_type": "stream",
          "name": "stdout",
          "text": [
            "Question: Best programming language\n",
            "Choices:  Python , JavaScript , Java , C , C++\n"
          ]
        }
      ]
    },
    {
      "cell_type": "code",
      "source": [],
      "metadata": {
        "id": "3P6NwhJnpg9R"
      },
      "execution_count": null,
      "outputs": []
    }
  ]
}